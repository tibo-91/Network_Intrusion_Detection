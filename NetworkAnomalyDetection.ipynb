{
 "cells": [
  {
   "cell_type": "markdown",
   "metadata": {
    "id": "M2Ni89P2Vb9R"
   },
   "source": [
    "# <b><u>Network Anomaly Detection</u></b> "
   ]
  },
  {
   "cell_type": "markdown",
   "metadata": {
    "id": "F2oOo4Pc2Gwd"
   },
   "source": [
    "E4 AIC group 7 :     \n",
    "- JIANG Franck\n",
    "- MURUGAVEL Shakthi\n",
    "- RENOU Thibault\n",
    "- TAHRAT Yanis\n"
   ]
  },
  {
   "cell_type": "markdown",
   "metadata": {
    "id": "XI0fZ7pdURBh"
   },
   "source": [
    "## Business Context\n",
    "\n",
    "With the enormous growth of computer networks usage and the huge increase in the number of Applications running on top of it, network security is becoming increasingly more important. All The computer systems suffer from security vulnerabilities which are both technically difficult and economically costly to be solved by the manufacturers.\\\n",
    "Therefore, the role of Intrusion Detection Systems (IDSs), as special-purpose devices to detect anomalies and attacks in the network, is becoming more important. The research in the intrusion detection field has been mostly focused on anomaly-based and misusebased detection techniques for a long time. While misuse-based detection is generally favored in commercial products due to its predictability and high accuracy, in academic research anomaly detection is typically conceived as a more powerful method due to its theoretical potential for addressing novel attacks.\\\n",
    "Conducting a thorough analysis of the recent research trend in anomaly detection, one will encounter several machine learning methods reported to have a very high detection rate of 98% , while keeping the false alarm rate at 1%. However, when we look at the state of the art IDSs solutions and commercial tools, there is no evidence of using anomaly detection approaches, and practitioners still think that it is an immature technology.\\\n",
    "To find the reason of this contrast, lots of research was done done in anomaly detection and considered various aspects such as learning and detection approaches, training data sets, testing data sets, and evaluation methods."
   ]
  },
  {
   "cell_type": "markdown",
   "metadata": {
    "id": "IPlDgnZYWEGJ"
   },
   "source": [
    "## Business problem\n",
    "\n",
    "Our purpose is to build network intrusion detection system to detect anomalies and attacks in the Network. The variable to predict is *attack*. There are 39 types of attacks and one normal state, when the network is not under attack. These attacks can be grouped into 4 types : *DOS*, *PROBE*, *R2L* and *U2R*. \n",
    "\n",
    "There are two problems:\n",
    "- <u>Binomial Classification:</u> Activity is *normal* or *attack*;\n",
    "- <u>Multinomial classification:</u> Activity is *normal*, *DOS*, *PROBE*, *R2L* or *U2R*;\n",
    "\n",
    "For this project, <b>our objective will be to detect the type of attack</b> (*no attack*, *DOS*, *PROBE*, *R2L* or *U2R*)."
   ]
  },
  {
   "cell_type": "markdown",
   "metadata": {
    "id": "xHzRida4YKm7"
   },
   "source": [
    "# Import of packages"
   ]
  },
  {
   "cell_type": "code",
   "execution_count": 1,
   "metadata": {
    "id": "QcPk6HUu5GAC"
   },
   "outputs": [],
   "source": [
    "import time\n",
    "import pickle\n",
    "import sklearn\n",
    "import warnings\n",
    "import numpy as np\n",
    "import pandas as pd\n",
    "import seaborn as sns\n",
    "import matplotlib.pyplot as plt\n",
    "\n",
    "from keras import models, layers\n",
    "from keras import optimizers\n",
    "\n",
    "from sklearn.feature_selection import RFE, RFECV, SelectKBest, chi2\n",
    "from sklearn.svm import LinearSVC\n",
    "from sklearn.tree import DecisionTreeClassifier\n",
    "from sklearn.ensemble import RandomForestClassifier\n",
    "\n",
    "from sklearn.model_selection import train_test_split, cross_val_score, KFold, GridSearchCV\n",
    "from sklearn.neighbors import KNeighborsClassifier\n",
    "from sklearn.preprocessing import StandardScaler, OneHotEncoder, LabelEncoder"
   ]
  },
  {
   "cell_type": "code",
   "execution_count": 2,
   "metadata": {
    "id": "HSTxrVe163CN"
   },
   "outputs": [],
   "source": [
    "# Modifiy the path to have access to your files\n",
    "\n",
    "# Google colab environment \n",
    "#from google.colab import drive\n",
    "#drive.mount('/content/drive', force_remount=True)\n",
    "\n",
    "#projectPath = '/content/drive/My Drive/ESIEE/E4/AIC4101C_MachineLearning_project/' # Tibo\n",
    "#projectPath = \"/content/drive/MyDrive/AIC4101C_MachineLearning_project/\"           # Franck and Shakthi and Yanis\n",
    "\n",
    "# Local environment\n",
    "projectPath = './'"
   ]
  },
  {
   "cell_type": "markdown",
   "metadata": {
    "id": "D1rD7_NN-q1B"
   },
   "source": [
    "# Implemented functions"
   ]
  },
  {
   "cell_type": "markdown",
   "metadata": {
    "id": "SoYnHiboeWBX"
   },
   "source": [
    "Here are all the functions we have implemented during the project, so that we don't have to search and recompile them at their place of creation. Explanations about their implementation will be provided in their respective parts."
   ]
  },
  {
   "cell_type": "code",
   "execution_count": 3,
   "metadata": {
    "id": "b_7dqD4aekXX"
   },
   "outputs": [],
   "source": [
    "def one_hot_encoding(categorical):\n",
    "\n",
    "    # 1. Instantiate\n",
    "    oneHotEncoder = OneHotEncoder()\n",
    "    \n",
    "    # 2. Fit\n",
    "    oneHotEncoder.fit(categorical)\n",
    "\n",
    "    # 3. Transform\n",
    "    encoded = oneHotEncoder.transform(categorical).toarray()\n",
    "\n",
    "    # 4. Keep the result into a dataframe\n",
    "    encoded = pd.DataFrame(encoded, columns=oneHotEncoder.get_feature_names_out())\n",
    "\n",
    "    return encoded, oneHotEncoder"
   ]
  },
  {
   "cell_type": "code",
   "execution_count": 4,
   "metadata": {
    "id": "YuVZLbsU-xw7"
   },
   "outputs": [],
   "source": [
    "def truncation(data, labels, ratio=0.2): \n",
    "    # Truncation of the data\n",
    "    trunc_data = data.sample(frac=1, random_state=42).reset_index()\n",
    "    trunc_data = trunc_data.truncate( after = int(data.shape[0]*ratio) )\n",
    "    trunc_data = trunc_data.drop(columns = 'index')    \n",
    "\n",
    "    # Truncation of the labels\n",
    "    trunc_labels = labels.sample(frac=1, random_state=42).reset_index()\n",
    "    trunc_labels = trunc_labels.truncate( after = int(labels.shape[0]*ratio) )\n",
    "    trunc_labels = trunc_labels.drop(columns = 'index')  \n",
    "    \n",
    "    return trunc_data, trunc_labels"
   ]
  },
  {
   "cell_type": "code",
   "execution_count": 5,
   "metadata": {
    "id": "s3HS1Zvq-4zh"
   },
   "outputs": [],
   "source": [
    "def dataset_recovering(dataset_name):\n",
    "    if dataset_name in [\"normal\", \"chi2\", \"rfe\"]:\n",
    "        with open(projectPath+'data/dataset_'+dataset_name+'.pickle', 'rb') as fp :\n",
    "            data, labels = pickle.load(fp) \n",
    "        return data, labels \n",
    "    else:\n",
    "        print(\"ERROR: Please specify a conforming value for \\'dataset_name\\': \\\"normal\\\", \\\"chi2\\\", \\\"rfe\\\"\")\n",
    "        return (None,)*2"
   ]
  },
  {
   "cell_type": "code",
   "execution_count": 6,
   "metadata": {
    "id": "ZiPvtXZMyiK9"
   },
   "outputs": [],
   "source": [
    "def SVM_train_test_split(data, labels, test_size=0.33, random_state=42):\n",
    "    n = labels.shape[1]\n",
    "    y_train_lst = [None]*n  # <-- [DoS, Probe, R2L, U2R, noAttack] \n",
    "    y_test_lst  = [None]*n  # <-- [DoS, Probe, R2L, U2R, noAttack]\n",
    "\n",
    "    # 1. Initialization to treat each attack separately\n",
    "    attacks_lst = []\n",
    "    for i in range (n):\n",
    "        attacks_lst.append(labels.columns[i]) # <-- [DoS, Probe, R2L, U2R, noAttack]\n",
    "\n",
    "    # 2. Train test split\n",
    "    for i in range(n):\n",
    "        X_train, X_test, y_train_lst[i], y_test_lst[i] = train_test_split(data, labels[attacks_lst[i]], \n",
    "                                                                          test_size=test_size, \n",
    "                                                                          random_state=random_state,\n",
    "                                                                          stratify=labels)\n",
    "    return X_train, X_test, y_train_lst, y_test_lst"
   ]
  },
  {
   "cell_type": "code",
   "execution_count": 7,
   "metadata": {
    "id": "h4H79i8bolh-"
   },
   "outputs": [],
   "source": [
    "def SVM_fit(data, labels, X_train, X_test, y_train_lst, y_test_lst, C, max_iter):\n",
    "    n = labels.shape[1]\n",
    "\n",
    "    # 1. Initialization of the models\n",
    "    model = [LinearSVC(C=C, max_iter=max_iter) for _ in range(n)]\n",
    "\n",
    "    # 2. Fit\n",
    "    for i in range(n):\n",
    "        model[i].fit(X_train, y_train_lst[i])\n",
    "\n",
    "    return model"
   ]
  },
  {
   "cell_type": "code",
   "execution_count": 8,
   "metadata": {
    "id": "586YHTSEopLa"
   },
   "outputs": [],
   "source": [
    "def SVM_predict(model, X_test, computeScore=False, y_true=None):\n",
    "    n = len(model)\n",
    "    predictions_lst = []\n",
    "\n",
    "    # 1. Prediction for each binary classification problem\n",
    "    attacks_lst = []\n",
    "    for i in range (n):\n",
    "        attacks_lst.append(labels.columns[i])\n",
    "        predictions_lst.append(model[i].predict(X_test))  \n",
    "\n",
    "    # 2. Global prediction\n",
    "    predictions = pd.DataFrame(np.array(predictions_lst).T)\n",
    "    predictions.columns = attacks_lst\n",
    "\n",
    "    # 3. Compute the score if requested\n",
    "    if computeScore is True and y_true is not None:\n",
    "        y_true = pd.DataFrame(np.array(y_true).T)\n",
    "        y_true.columns = attacks_lst\n",
    "\n",
    "        n_errors  = y_true.compare(predictions).shape[0]\n",
    "        n_samples = y_true.shape[0]\n",
    "        score = np.round( (n_samples-n_errors)/n_samples, 4 )\n",
    "\n",
    "        return predictions, score\n",
    "\n",
    "    elif computeScore is False:\n",
    "        return predictions\n",
    "\n",
    "    else :\n",
    "        print(\"ERROR: Please specify conforming values for :\\n\\t - \\'computeScore\\': True, False \\n\\t - \\'y_true\\'\")"
   ]
  },
  {
   "cell_type": "code",
   "execution_count": 9,
   "metadata": {
    "id": "qHd1cfAU-9CS"
   },
   "outputs": [],
   "source": [
    "def dataset_distribution(dataset_name, SVM_case=False, scaled=False, truncated=False, ratio=0.2):\n",
    "\n",
    "    # 1. Dataset recovering\n",
    "    data, labels = dataset_recovering(dataset_name)\n",
    "    if data is None or labels is None:\n",
    "        return (None,)*6\n",
    "\n",
    "    # 2. Truncation \n",
    "    if truncated is True :\n",
    "        data, labels = truncation(data, labels, ratio=ratio)\n",
    "    elif truncated is not False:\n",
    "        print(\"ERROR: Please specify a conforming value for \\'truncated\\': True, False\")\n",
    "        return (None,)*6\n",
    "\n",
    "    # 3. Train test split \n",
    "    if SVM_case is False :\n",
    "        X_train, X_test, y_train, y_test = train_test_split(data, labels, \n",
    "                                                            test_size=0.33, \n",
    "                                                            random_state=42,\n",
    "                                                            stratify=labels)\n",
    "    elif SVM_case is True :\n",
    "        X_train, X_test, y_train, y_test = SVM_train_test_split(data, labels, \n",
    "                                                                test_size=0.33, \n",
    "                                                                random_state=42)\n",
    "    else :\n",
    "        print(\"ERROR: Please specify a conforming value for \\'SVM_case\\': True, False\")\n",
    "        return (None,)*6\n",
    "\n",
    "    # 4. Standardization\n",
    "    if scaled is True :\n",
    "        X_train = StandardScaler().fit_transform(X_train)\n",
    "        X_test  = StandardScaler().fit_transform(X_test)\n",
    "    elif scaled is not False:\n",
    "        print(\"ERROR: Please specify a conforming value for \\'scaled\\': True, False\")\n",
    "        return (None,)*6\n",
    "\n",
    "    return( data, labels, X_train, X_test, y_train, y_test )"
   ]
  },
  {
   "cell_type": "markdown",
   "metadata": {
    "id": "53m4cDwAVsUk"
   },
   "source": [
    "# $\\rm{I}$<b> - Data analysis and features engineering</b>\n",
    "\n",
    "First of all, we will study manually the data set, by manipulating, deleting, modifying it in order to improve machine learning model training and to lead to better performance and greater accuracy."
   ]
  },
  {
   "cell_type": "code",
   "execution_count": 10,
   "metadata": {
    "colab": {
     "base_uri": "https://localhost:8080/",
     "height": 317
    },
    "id": "V_UkMu4N6WCy",
    "outputId": "a97a55b2-e41b-49c8-a9ec-e2b852c8c65a"
   },
   "outputs": [
    {
     "name": "stdout",
     "output_type": "stream",
     "text": [
      "Shape: (125973, 43)\n"
     ]
    },
    {
     "data": {
      "text/html": [
       "<div>\n",
       "<style scoped>\n",
       "    .dataframe tbody tr th:only-of-type {\n",
       "        vertical-align: middle;\n",
       "    }\n",
       "\n",
       "    .dataframe tbody tr th {\n",
       "        vertical-align: top;\n",
       "    }\n",
       "\n",
       "    .dataframe thead th {\n",
       "        text-align: right;\n",
       "    }\n",
       "</style>\n",
       "<table border=\"1\" class=\"dataframe\">\n",
       "  <thead>\n",
       "    <tr style=\"text-align: right;\">\n",
       "      <th></th>\n",
       "      <th>duration</th>\n",
       "      <th>protocol_type</th>\n",
       "      <th>service</th>\n",
       "      <th>flag</th>\n",
       "      <th>src_bytes</th>\n",
       "      <th>dst_bytes</th>\n",
       "      <th>land</th>\n",
       "      <th>wrong_fragment</th>\n",
       "      <th>urgent</th>\n",
       "      <th>hot</th>\n",
       "      <th>...</th>\n",
       "      <th>dst_host_same_srv_rate</th>\n",
       "      <th>dst_host_diff_srv_rate</th>\n",
       "      <th>dst_host_same_src_port_rate</th>\n",
       "      <th>dst_host_srv_diff_host_rate</th>\n",
       "      <th>dst_host_serror_rate</th>\n",
       "      <th>dst_host_srv_serror_rate</th>\n",
       "      <th>dst_host_rerror_rate</th>\n",
       "      <th>dst_host_srv_rerror_rate</th>\n",
       "      <th>attack</th>\n",
       "      <th>last_flag</th>\n",
       "    </tr>\n",
       "  </thead>\n",
       "  <tbody>\n",
       "    <tr>\n",
       "      <th>0</th>\n",
       "      <td>0</td>\n",
       "      <td>tcp</td>\n",
       "      <td>ftp_data</td>\n",
       "      <td>SF</td>\n",
       "      <td>491</td>\n",
       "      <td>0</td>\n",
       "      <td>0</td>\n",
       "      <td>0</td>\n",
       "      <td>0</td>\n",
       "      <td>0</td>\n",
       "      <td>...</td>\n",
       "      <td>0.17</td>\n",
       "      <td>0.03</td>\n",
       "      <td>0.17</td>\n",
       "      <td>0.00</td>\n",
       "      <td>0.00</td>\n",
       "      <td>0.00</td>\n",
       "      <td>0.05</td>\n",
       "      <td>0.00</td>\n",
       "      <td>normal</td>\n",
       "      <td>20</td>\n",
       "    </tr>\n",
       "    <tr>\n",
       "      <th>1</th>\n",
       "      <td>0</td>\n",
       "      <td>udp</td>\n",
       "      <td>other</td>\n",
       "      <td>SF</td>\n",
       "      <td>146</td>\n",
       "      <td>0</td>\n",
       "      <td>0</td>\n",
       "      <td>0</td>\n",
       "      <td>0</td>\n",
       "      <td>0</td>\n",
       "      <td>...</td>\n",
       "      <td>0.00</td>\n",
       "      <td>0.60</td>\n",
       "      <td>0.88</td>\n",
       "      <td>0.00</td>\n",
       "      <td>0.00</td>\n",
       "      <td>0.00</td>\n",
       "      <td>0.00</td>\n",
       "      <td>0.00</td>\n",
       "      <td>normal</td>\n",
       "      <td>15</td>\n",
       "    </tr>\n",
       "    <tr>\n",
       "      <th>2</th>\n",
       "      <td>0</td>\n",
       "      <td>tcp</td>\n",
       "      <td>private</td>\n",
       "      <td>S0</td>\n",
       "      <td>0</td>\n",
       "      <td>0</td>\n",
       "      <td>0</td>\n",
       "      <td>0</td>\n",
       "      <td>0</td>\n",
       "      <td>0</td>\n",
       "      <td>...</td>\n",
       "      <td>0.10</td>\n",
       "      <td>0.05</td>\n",
       "      <td>0.00</td>\n",
       "      <td>0.00</td>\n",
       "      <td>1.00</td>\n",
       "      <td>1.00</td>\n",
       "      <td>0.00</td>\n",
       "      <td>0.00</td>\n",
       "      <td>neptune</td>\n",
       "      <td>19</td>\n",
       "    </tr>\n",
       "    <tr>\n",
       "      <th>3</th>\n",
       "      <td>0</td>\n",
       "      <td>tcp</td>\n",
       "      <td>http</td>\n",
       "      <td>SF</td>\n",
       "      <td>232</td>\n",
       "      <td>8153</td>\n",
       "      <td>0</td>\n",
       "      <td>0</td>\n",
       "      <td>0</td>\n",
       "      <td>0</td>\n",
       "      <td>...</td>\n",
       "      <td>1.00</td>\n",
       "      <td>0.00</td>\n",
       "      <td>0.03</td>\n",
       "      <td>0.04</td>\n",
       "      <td>0.03</td>\n",
       "      <td>0.01</td>\n",
       "      <td>0.00</td>\n",
       "      <td>0.01</td>\n",
       "      <td>normal</td>\n",
       "      <td>21</td>\n",
       "    </tr>\n",
       "    <tr>\n",
       "      <th>4</th>\n",
       "      <td>0</td>\n",
       "      <td>tcp</td>\n",
       "      <td>http</td>\n",
       "      <td>SF</td>\n",
       "      <td>199</td>\n",
       "      <td>420</td>\n",
       "      <td>0</td>\n",
       "      <td>0</td>\n",
       "      <td>0</td>\n",
       "      <td>0</td>\n",
       "      <td>...</td>\n",
       "      <td>1.00</td>\n",
       "      <td>0.00</td>\n",
       "      <td>0.00</td>\n",
       "      <td>0.00</td>\n",
       "      <td>0.00</td>\n",
       "      <td>0.00</td>\n",
       "      <td>0.00</td>\n",
       "      <td>0.00</td>\n",
       "      <td>normal</td>\n",
       "      <td>21</td>\n",
       "    </tr>\n",
       "  </tbody>\n",
       "</table>\n",
       "<p>5 rows × 43 columns</p>\n",
       "</div>"
      ],
      "text/plain": [
       "   duration protocol_type   service flag  src_bytes  dst_bytes  land  \\\n",
       "0         0           tcp  ftp_data   SF        491          0     0   \n",
       "1         0           udp     other   SF        146          0     0   \n",
       "2         0           tcp   private   S0          0          0     0   \n",
       "3         0           tcp      http   SF        232       8153     0   \n",
       "4         0           tcp      http   SF        199        420     0   \n",
       "\n",
       "   wrong_fragment  urgent  hot  ...  dst_host_same_srv_rate  \\\n",
       "0               0       0    0  ...                    0.17   \n",
       "1               0       0    0  ...                    0.00   \n",
       "2               0       0    0  ...                    0.10   \n",
       "3               0       0    0  ...                    1.00   \n",
       "4               0       0    0  ...                    1.00   \n",
       "\n",
       "   dst_host_diff_srv_rate  dst_host_same_src_port_rate  \\\n",
       "0                    0.03                         0.17   \n",
       "1                    0.60                         0.88   \n",
       "2                    0.05                         0.00   \n",
       "3                    0.00                         0.03   \n",
       "4                    0.00                         0.00   \n",
       "\n",
       "   dst_host_srv_diff_host_rate  dst_host_serror_rate  \\\n",
       "0                         0.00                  0.00   \n",
       "1                         0.00                  0.00   \n",
       "2                         0.00                  1.00   \n",
       "3                         0.04                  0.03   \n",
       "4                         0.00                  0.00   \n",
       "\n",
       "   dst_host_srv_serror_rate  dst_host_rerror_rate  dst_host_srv_rerror_rate  \\\n",
       "0                      0.00                  0.05                      0.00   \n",
       "1                      0.00                  0.00                      0.00   \n",
       "2                      1.00                  0.00                      0.00   \n",
       "3                      0.01                  0.00                      0.01   \n",
       "4                      0.00                  0.00                      0.00   \n",
       "\n",
       "    attack  last_flag  \n",
       "0   normal         20  \n",
       "1   normal         15  \n",
       "2  neptune         19  \n",
       "3   normal         21  \n",
       "4   normal         21  \n",
       "\n",
       "[5 rows x 43 columns]"
      ]
     },
     "execution_count": 10,
     "metadata": {},
     "output_type": "execute_result"
    }
   ],
   "source": [
    "df = pd.read_csv(projectPath+'data/Train.csv', index_col=False) \n",
    "print(\"Shape:\", df.shape)\n",
    "df.head()"
   ]
  },
  {
   "cell_type": "code",
   "execution_count": 11,
   "metadata": {
    "colab": {
     "base_uri": "https://localhost:8080/"
    },
    "id": "fSHosXXDz5A3",
    "outputId": "620a4e79-bee5-4f1b-a68f-853091d096a6"
   },
   "outputs": [
    {
     "name": "stdout",
     "output_type": "stream",
     "text": [
      "duration                         int64\n",
      "protocol_type                   object\n",
      "service                         object\n",
      "flag                            object\n",
      "src_bytes                        int64\n",
      "dst_bytes                        int64\n",
      "land                             int64\n",
      "wrong_fragment                   int64\n",
      "urgent                           int64\n",
      "hot                              int64\n",
      "num_failed_logins                int64\n",
      "logged_in                        int64\n",
      "num_compromised                  int64\n",
      "root_shell                       int64\n",
      "su_attempted                     int64\n",
      "num_root                         int64\n",
      "num_file_creations               int64\n",
      "num_shells                       int64\n",
      "num_access_files                 int64\n",
      "num_outbound_cmds                int64\n",
      "is_host_login                    int64\n",
      "is_guest_login                   int64\n",
      "count                            int64\n",
      "srv_count                        int64\n",
      "serror_rate                    float64\n",
      "srv_serror_rate                float64\n",
      "rerror_rate                    float64\n",
      "srv_rerror_rate                float64\n",
      "same_srv_rate                  float64\n",
      "diff_srv_rate                  float64\n",
      "srv_diff_host_rate             float64\n",
      "dst_host_count                   int64\n",
      "dst_host_srv_count               int64\n",
      "dst_host_same_srv_rate         float64\n",
      "dst_host_diff_srv_rate         float64\n",
      "dst_host_same_src_port_rate    float64\n",
      "dst_host_srv_diff_host_rate    float64\n",
      "dst_host_serror_rate           float64\n",
      "dst_host_srv_serror_rate       float64\n",
      "dst_host_rerror_rate           float64\n",
      "dst_host_srv_rerror_rate       float64\n",
      "attack                          object\n",
      "last_flag                        int64\n",
      "dtype: object\n"
     ]
    }
   ],
   "source": [
    "print(df.dtypes) # display the name and the type of each column"
   ]
  },
  {
   "cell_type": "markdown",
   "metadata": {
    "id": "fXkCNtBk431a"
   },
   "source": [
    "## $\\rm{1)}$ Missing data and duplicates \n",
    "\n",
    "First of all, we will check if there is NaN values in the studied dataframe. Then we will check if there are duplicated rows, in order to delete them (no need to do it for the columns, we can see with the human eye that there are no duplicates)."
   ]
  },
  {
   "cell_type": "code",
   "execution_count": 12,
   "metadata": {
    "colab": {
     "base_uri": "https://localhost:8080/"
    },
    "id": "2zjdU_D2_gRO",
    "outputId": "4c437284-ca2f-40ae-faa6-10640d4136d7"
   },
   "outputs": [
    {
     "name": "stdout",
     "output_type": "stream",
     "text": [
      "missing values: 0\n",
      "number of rows before dropping duplicates : 125973\n",
      "number of rows after dropping duplicates  : 125973\n"
     ]
    }
   ],
   "source": [
    "# Missing values\n",
    "print(\"missing values:\", df.isnull().sum().sum()) # 0, no missing value\n",
    "\n",
    "# Duplicates\n",
    "print(\"number of rows before dropping duplicates :\", df.shape[0]) # 125 973\n",
    "df = df.drop_duplicates()\n",
    "print(\"number of rows after dropping duplicates  :\", df.shape[0]) # 125 973, no duplicated rows"
   ]
  },
  {
   "cell_type": "markdown",
   "metadata": {
    "id": "4MpiYfvt8fgB"
   },
   "source": [
    "## $\\rm{2)}$ Grouping the types of attacks\n",
    "\n",
    "We know that there are 39 types of attacks and one normal state, when the network is not under attack. Here, the purpose will be to group these attacks into 4 types : DOS, PROBE, R2L and U2R."
   ]
  },
  {
   "cell_type": "code",
   "execution_count": 13,
   "metadata": {
    "colab": {
     "base_uri": "https://localhost:8080/"
    },
    "id": "rcSZudXlAhhw",
    "outputId": "da680411-536a-4ee6-c228-0dcd5e6ba68b"
   },
   "outputs": [
    {
     "name": "stdout",
     "output_type": "stream",
     "text": [
      "23 different attacks:\n",
      "- back\n",
      "- buffer_overflow\n",
      "- ftp_write\n",
      "- guess_passwd\n",
      "- imap\n",
      "- ipsweep\n",
      "- land\n",
      "- loadmodule\n",
      "- multihop\n",
      "- neptune\n",
      "- nmap\n",
      "- normal\n",
      "- perl\n",
      "- phf\n",
      "- pod\n",
      "- portsweep\n",
      "- rootkit\n",
      "- satan\n",
      "- smurf\n",
      "- spy\n",
      "- teardrop\n",
      "- warezclient\n",
      "- warezmaster\n"
     ]
    }
   ],
   "source": [
    "# List all the attacks identified in the .csv file\n",
    "attacks = sorted( df['attack'].unique() )\n",
    "print( str(len(attacks)) + \" different attacks:\\n- \" + '\\n- '.join([f'{i}' for i in attacks]) )"
   ]
  },
  {
   "cell_type": "code",
   "execution_count": 14,
   "metadata": {
    "colab": {
     "base_uri": "https://localhost:8080/"
    },
    "id": "okvvcCtR_umr",
    "outputId": "ecaff6b0-3698-425d-8071-d2be5bce850c"
   },
   "outputs": [
    {
     "name": "stdout",
     "output_type": "stream",
     "text": [
      "23\n"
     ]
    }
   ],
   "source": [
    "# Group the types of attack\n",
    "types_of_attacks = {'normal': 'noAttack', \n",
    "                    \n",
    "                    'back'     : 'DoS',\n",
    "                    'land'     : 'DoS',\n",
    "                    'neptune'  : 'DoS', \n",
    "                    'pod'      : 'DoS',\n",
    "                    'smurf'    : 'DoS',\n",
    "                    'teardrop' : 'DoS',\n",
    "                                    \n",
    "                    'ipsweep'  : 'Probe',\n",
    "                    'nmap'     : 'Probe',\n",
    "                    'portsweep': 'Probe',\n",
    "                    'satan'    : 'Probe',\n",
    "                    \n",
    "                    'ftp_write'   : 'R2L',\n",
    "                    'guess_passwd': 'R2L',\n",
    "                    'imap'        : 'R2L', \n",
    "                    'multihop'    : 'R2L', \n",
    "                    'phf'         : 'R2L',\n",
    "                    'spy'         : 'R2L',\n",
    "                    'warezclient' : 'R2L',\n",
    "                    'warezmaster' : 'R2L', \n",
    "                    \n",
    "                    'buffer_overflow': 'U2R',\n",
    "                    'loadmodule'     : 'U2R', \n",
    "                    'perl'           : 'U2R',\n",
    "                    'rootkit'        : 'U2R'\n",
    "                    }\n",
    "\n",
    "print(len(types_of_attacks)) # should be 23"
   ]
  },
  {
   "cell_type": "code",
   "execution_count": 15,
   "metadata": {
    "colab": {
     "base_uri": "https://localhost:8080/",
     "height": 630
    },
    "id": "nUpvabQrGUxF",
    "outputId": "1e616e0b-f959-4ea2-c904-ad86d711837c"
   },
   "outputs": [
    {
     "name": "stdout",
     "output_type": "stream",
     "text": [
      "Shape: (125973, 43)\n"
     ]
    },
    {
     "data": {
      "text/html": [
       "<div>\n",
       "<style scoped>\n",
       "    .dataframe tbody tr th:only-of-type {\n",
       "        vertical-align: middle;\n",
       "    }\n",
       "\n",
       "    .dataframe tbody tr th {\n",
       "        vertical-align: top;\n",
       "    }\n",
       "\n",
       "    .dataframe thead th {\n",
       "        text-align: right;\n",
       "    }\n",
       "</style>\n",
       "<table border=\"1\" class=\"dataframe\">\n",
       "  <thead>\n",
       "    <tr style=\"text-align: right;\">\n",
       "      <th></th>\n",
       "      <th>duration</th>\n",
       "      <th>protocol_type</th>\n",
       "      <th>service</th>\n",
       "      <th>flag</th>\n",
       "      <th>src_bytes</th>\n",
       "      <th>dst_bytes</th>\n",
       "      <th>land</th>\n",
       "      <th>wrong_fragment</th>\n",
       "      <th>urgent</th>\n",
       "      <th>hot</th>\n",
       "      <th>...</th>\n",
       "      <th>dst_host_same_srv_rate</th>\n",
       "      <th>dst_host_diff_srv_rate</th>\n",
       "      <th>dst_host_same_src_port_rate</th>\n",
       "      <th>dst_host_srv_diff_host_rate</th>\n",
       "      <th>dst_host_serror_rate</th>\n",
       "      <th>dst_host_srv_serror_rate</th>\n",
       "      <th>dst_host_rerror_rate</th>\n",
       "      <th>dst_host_srv_rerror_rate</th>\n",
       "      <th>attack</th>\n",
       "      <th>last_flag</th>\n",
       "    </tr>\n",
       "  </thead>\n",
       "  <tbody>\n",
       "    <tr>\n",
       "      <th>0</th>\n",
       "      <td>0</td>\n",
       "      <td>tcp</td>\n",
       "      <td>ftp_data</td>\n",
       "      <td>SF</td>\n",
       "      <td>491</td>\n",
       "      <td>0</td>\n",
       "      <td>0</td>\n",
       "      <td>0</td>\n",
       "      <td>0</td>\n",
       "      <td>0</td>\n",
       "      <td>...</td>\n",
       "      <td>0.17</td>\n",
       "      <td>0.03</td>\n",
       "      <td>0.17</td>\n",
       "      <td>0.00</td>\n",
       "      <td>0.00</td>\n",
       "      <td>0.00</td>\n",
       "      <td>0.05</td>\n",
       "      <td>0.00</td>\n",
       "      <td>noAttack</td>\n",
       "      <td>20</td>\n",
       "    </tr>\n",
       "    <tr>\n",
       "      <th>1</th>\n",
       "      <td>0</td>\n",
       "      <td>udp</td>\n",
       "      <td>other</td>\n",
       "      <td>SF</td>\n",
       "      <td>146</td>\n",
       "      <td>0</td>\n",
       "      <td>0</td>\n",
       "      <td>0</td>\n",
       "      <td>0</td>\n",
       "      <td>0</td>\n",
       "      <td>...</td>\n",
       "      <td>0.00</td>\n",
       "      <td>0.60</td>\n",
       "      <td>0.88</td>\n",
       "      <td>0.00</td>\n",
       "      <td>0.00</td>\n",
       "      <td>0.00</td>\n",
       "      <td>0.00</td>\n",
       "      <td>0.00</td>\n",
       "      <td>noAttack</td>\n",
       "      <td>15</td>\n",
       "    </tr>\n",
       "    <tr>\n",
       "      <th>2</th>\n",
       "      <td>0</td>\n",
       "      <td>tcp</td>\n",
       "      <td>private</td>\n",
       "      <td>S0</td>\n",
       "      <td>0</td>\n",
       "      <td>0</td>\n",
       "      <td>0</td>\n",
       "      <td>0</td>\n",
       "      <td>0</td>\n",
       "      <td>0</td>\n",
       "      <td>...</td>\n",
       "      <td>0.10</td>\n",
       "      <td>0.05</td>\n",
       "      <td>0.00</td>\n",
       "      <td>0.00</td>\n",
       "      <td>1.00</td>\n",
       "      <td>1.00</td>\n",
       "      <td>0.00</td>\n",
       "      <td>0.00</td>\n",
       "      <td>DoS</td>\n",
       "      <td>19</td>\n",
       "    </tr>\n",
       "    <tr>\n",
       "      <th>3</th>\n",
       "      <td>0</td>\n",
       "      <td>tcp</td>\n",
       "      <td>http</td>\n",
       "      <td>SF</td>\n",
       "      <td>232</td>\n",
       "      <td>8153</td>\n",
       "      <td>0</td>\n",
       "      <td>0</td>\n",
       "      <td>0</td>\n",
       "      <td>0</td>\n",
       "      <td>...</td>\n",
       "      <td>1.00</td>\n",
       "      <td>0.00</td>\n",
       "      <td>0.03</td>\n",
       "      <td>0.04</td>\n",
       "      <td>0.03</td>\n",
       "      <td>0.01</td>\n",
       "      <td>0.00</td>\n",
       "      <td>0.01</td>\n",
       "      <td>noAttack</td>\n",
       "      <td>21</td>\n",
       "    </tr>\n",
       "    <tr>\n",
       "      <th>4</th>\n",
       "      <td>0</td>\n",
       "      <td>tcp</td>\n",
       "      <td>http</td>\n",
       "      <td>SF</td>\n",
       "      <td>199</td>\n",
       "      <td>420</td>\n",
       "      <td>0</td>\n",
       "      <td>0</td>\n",
       "      <td>0</td>\n",
       "      <td>0</td>\n",
       "      <td>...</td>\n",
       "      <td>1.00</td>\n",
       "      <td>0.00</td>\n",
       "      <td>0.00</td>\n",
       "      <td>0.00</td>\n",
       "      <td>0.00</td>\n",
       "      <td>0.00</td>\n",
       "      <td>0.00</td>\n",
       "      <td>0.00</td>\n",
       "      <td>noAttack</td>\n",
       "      <td>21</td>\n",
       "    </tr>\n",
       "    <tr>\n",
       "      <th>5</th>\n",
       "      <td>0</td>\n",
       "      <td>tcp</td>\n",
       "      <td>private</td>\n",
       "      <td>REJ</td>\n",
       "      <td>0</td>\n",
       "      <td>0</td>\n",
       "      <td>0</td>\n",
       "      <td>0</td>\n",
       "      <td>0</td>\n",
       "      <td>0</td>\n",
       "      <td>...</td>\n",
       "      <td>0.07</td>\n",
       "      <td>0.07</td>\n",
       "      <td>0.00</td>\n",
       "      <td>0.00</td>\n",
       "      <td>0.00</td>\n",
       "      <td>0.00</td>\n",
       "      <td>1.00</td>\n",
       "      <td>1.00</td>\n",
       "      <td>DoS</td>\n",
       "      <td>21</td>\n",
       "    </tr>\n",
       "    <tr>\n",
       "      <th>6</th>\n",
       "      <td>0</td>\n",
       "      <td>tcp</td>\n",
       "      <td>private</td>\n",
       "      <td>S0</td>\n",
       "      <td>0</td>\n",
       "      <td>0</td>\n",
       "      <td>0</td>\n",
       "      <td>0</td>\n",
       "      <td>0</td>\n",
       "      <td>0</td>\n",
       "      <td>...</td>\n",
       "      <td>0.04</td>\n",
       "      <td>0.05</td>\n",
       "      <td>0.00</td>\n",
       "      <td>0.00</td>\n",
       "      <td>1.00</td>\n",
       "      <td>1.00</td>\n",
       "      <td>0.00</td>\n",
       "      <td>0.00</td>\n",
       "      <td>DoS</td>\n",
       "      <td>21</td>\n",
       "    </tr>\n",
       "    <tr>\n",
       "      <th>7</th>\n",
       "      <td>0</td>\n",
       "      <td>tcp</td>\n",
       "      <td>private</td>\n",
       "      <td>S0</td>\n",
       "      <td>0</td>\n",
       "      <td>0</td>\n",
       "      <td>0</td>\n",
       "      <td>0</td>\n",
       "      <td>0</td>\n",
       "      <td>0</td>\n",
       "      <td>...</td>\n",
       "      <td>0.06</td>\n",
       "      <td>0.07</td>\n",
       "      <td>0.00</td>\n",
       "      <td>0.00</td>\n",
       "      <td>1.00</td>\n",
       "      <td>1.00</td>\n",
       "      <td>0.00</td>\n",
       "      <td>0.00</td>\n",
       "      <td>DoS</td>\n",
       "      <td>21</td>\n",
       "    </tr>\n",
       "    <tr>\n",
       "      <th>8</th>\n",
       "      <td>0</td>\n",
       "      <td>tcp</td>\n",
       "      <td>remote_job</td>\n",
       "      <td>S0</td>\n",
       "      <td>0</td>\n",
       "      <td>0</td>\n",
       "      <td>0</td>\n",
       "      <td>0</td>\n",
       "      <td>0</td>\n",
       "      <td>0</td>\n",
       "      <td>...</td>\n",
       "      <td>0.09</td>\n",
       "      <td>0.05</td>\n",
       "      <td>0.00</td>\n",
       "      <td>0.00</td>\n",
       "      <td>1.00</td>\n",
       "      <td>1.00</td>\n",
       "      <td>0.00</td>\n",
       "      <td>0.00</td>\n",
       "      <td>DoS</td>\n",
       "      <td>21</td>\n",
       "    </tr>\n",
       "    <tr>\n",
       "      <th>9</th>\n",
       "      <td>0</td>\n",
       "      <td>tcp</td>\n",
       "      <td>private</td>\n",
       "      <td>S0</td>\n",
       "      <td>0</td>\n",
       "      <td>0</td>\n",
       "      <td>0</td>\n",
       "      <td>0</td>\n",
       "      <td>0</td>\n",
       "      <td>0</td>\n",
       "      <td>...</td>\n",
       "      <td>0.05</td>\n",
       "      <td>0.06</td>\n",
       "      <td>0.00</td>\n",
       "      <td>0.00</td>\n",
       "      <td>1.00</td>\n",
       "      <td>1.00</td>\n",
       "      <td>0.00</td>\n",
       "      <td>0.00</td>\n",
       "      <td>DoS</td>\n",
       "      <td>21</td>\n",
       "    </tr>\n",
       "    <tr>\n",
       "      <th>10</th>\n",
       "      <td>0</td>\n",
       "      <td>tcp</td>\n",
       "      <td>private</td>\n",
       "      <td>REJ</td>\n",
       "      <td>0</td>\n",
       "      <td>0</td>\n",
       "      <td>0</td>\n",
       "      <td>0</td>\n",
       "      <td>0</td>\n",
       "      <td>0</td>\n",
       "      <td>...</td>\n",
       "      <td>0.05</td>\n",
       "      <td>0.07</td>\n",
       "      <td>0.00</td>\n",
       "      <td>0.00</td>\n",
       "      <td>0.00</td>\n",
       "      <td>0.00</td>\n",
       "      <td>1.00</td>\n",
       "      <td>1.00</td>\n",
       "      <td>DoS</td>\n",
       "      <td>21</td>\n",
       "    </tr>\n",
       "    <tr>\n",
       "      <th>11</th>\n",
       "      <td>0</td>\n",
       "      <td>tcp</td>\n",
       "      <td>private</td>\n",
       "      <td>S0</td>\n",
       "      <td>0</td>\n",
       "      <td>0</td>\n",
       "      <td>0</td>\n",
       "      <td>0</td>\n",
       "      <td>0</td>\n",
       "      <td>0</td>\n",
       "      <td>...</td>\n",
       "      <td>0.05</td>\n",
       "      <td>0.07</td>\n",
       "      <td>0.00</td>\n",
       "      <td>0.00</td>\n",
       "      <td>1.00</td>\n",
       "      <td>1.00</td>\n",
       "      <td>0.00</td>\n",
       "      <td>0.00</td>\n",
       "      <td>DoS</td>\n",
       "      <td>21</td>\n",
       "    </tr>\n",
       "    <tr>\n",
       "      <th>12</th>\n",
       "      <td>0</td>\n",
       "      <td>tcp</td>\n",
       "      <td>http</td>\n",
       "      <td>SF</td>\n",
       "      <td>287</td>\n",
       "      <td>2251</td>\n",
       "      <td>0</td>\n",
       "      <td>0</td>\n",
       "      <td>0</td>\n",
       "      <td>0</td>\n",
       "      <td>...</td>\n",
       "      <td>1.00</td>\n",
       "      <td>0.00</td>\n",
       "      <td>0.12</td>\n",
       "      <td>0.03</td>\n",
       "      <td>0.00</td>\n",
       "      <td>0.00</td>\n",
       "      <td>0.00</td>\n",
       "      <td>0.00</td>\n",
       "      <td>noAttack</td>\n",
       "      <td>21</td>\n",
       "    </tr>\n",
       "    <tr>\n",
       "      <th>13</th>\n",
       "      <td>0</td>\n",
       "      <td>tcp</td>\n",
       "      <td>ftp_data</td>\n",
       "      <td>SF</td>\n",
       "      <td>334</td>\n",
       "      <td>0</td>\n",
       "      <td>0</td>\n",
       "      <td>0</td>\n",
       "      <td>0</td>\n",
       "      <td>0</td>\n",
       "      <td>...</td>\n",
       "      <td>1.00</td>\n",
       "      <td>0.00</td>\n",
       "      <td>1.00</td>\n",
       "      <td>0.20</td>\n",
       "      <td>0.00</td>\n",
       "      <td>0.00</td>\n",
       "      <td>0.00</td>\n",
       "      <td>0.00</td>\n",
       "      <td>R2L</td>\n",
       "      <td>15</td>\n",
       "    </tr>\n",
       "    <tr>\n",
       "      <th>14</th>\n",
       "      <td>0</td>\n",
       "      <td>tcp</td>\n",
       "      <td>name</td>\n",
       "      <td>S0</td>\n",
       "      <td>0</td>\n",
       "      <td>0</td>\n",
       "      <td>0</td>\n",
       "      <td>0</td>\n",
       "      <td>0</td>\n",
       "      <td>0</td>\n",
       "      <td>...</td>\n",
       "      <td>0.00</td>\n",
       "      <td>0.07</td>\n",
       "      <td>0.00</td>\n",
       "      <td>0.00</td>\n",
       "      <td>1.00</td>\n",
       "      <td>1.00</td>\n",
       "      <td>0.00</td>\n",
       "      <td>0.00</td>\n",
       "      <td>DoS</td>\n",
       "      <td>19</td>\n",
       "    </tr>\n",
       "  </tbody>\n",
       "</table>\n",
       "<p>15 rows × 43 columns</p>\n",
       "</div>"
      ],
      "text/plain": [
       "    duration protocol_type     service flag  src_bytes  dst_bytes  land  \\\n",
       "0          0           tcp    ftp_data   SF        491          0     0   \n",
       "1          0           udp       other   SF        146          0     0   \n",
       "2          0           tcp     private   S0          0          0     0   \n",
       "3          0           tcp        http   SF        232       8153     0   \n",
       "4          0           tcp        http   SF        199        420     0   \n",
       "5          0           tcp     private  REJ          0          0     0   \n",
       "6          0           tcp     private   S0          0          0     0   \n",
       "7          0           tcp     private   S0          0          0     0   \n",
       "8          0           tcp  remote_job   S0          0          0     0   \n",
       "9          0           tcp     private   S0          0          0     0   \n",
       "10         0           tcp     private  REJ          0          0     0   \n",
       "11         0           tcp     private   S0          0          0     0   \n",
       "12         0           tcp        http   SF        287       2251     0   \n",
       "13         0           tcp    ftp_data   SF        334          0     0   \n",
       "14         0           tcp        name   S0          0          0     0   \n",
       "\n",
       "    wrong_fragment  urgent  hot  ...  dst_host_same_srv_rate  \\\n",
       "0                0       0    0  ...                    0.17   \n",
       "1                0       0    0  ...                    0.00   \n",
       "2                0       0    0  ...                    0.10   \n",
       "3                0       0    0  ...                    1.00   \n",
       "4                0       0    0  ...                    1.00   \n",
       "5                0       0    0  ...                    0.07   \n",
       "6                0       0    0  ...                    0.04   \n",
       "7                0       0    0  ...                    0.06   \n",
       "8                0       0    0  ...                    0.09   \n",
       "9                0       0    0  ...                    0.05   \n",
       "10               0       0    0  ...                    0.05   \n",
       "11               0       0    0  ...                    0.05   \n",
       "12               0       0    0  ...                    1.00   \n",
       "13               0       0    0  ...                    1.00   \n",
       "14               0       0    0  ...                    0.00   \n",
       "\n",
       "    dst_host_diff_srv_rate  dst_host_same_src_port_rate  \\\n",
       "0                     0.03                         0.17   \n",
       "1                     0.60                         0.88   \n",
       "2                     0.05                         0.00   \n",
       "3                     0.00                         0.03   \n",
       "4                     0.00                         0.00   \n",
       "5                     0.07                         0.00   \n",
       "6                     0.05                         0.00   \n",
       "7                     0.07                         0.00   \n",
       "8                     0.05                         0.00   \n",
       "9                     0.06                         0.00   \n",
       "10                    0.07                         0.00   \n",
       "11                    0.07                         0.00   \n",
       "12                    0.00                         0.12   \n",
       "13                    0.00                         1.00   \n",
       "14                    0.07                         0.00   \n",
       "\n",
       "    dst_host_srv_diff_host_rate  dst_host_serror_rate  \\\n",
       "0                          0.00                  0.00   \n",
       "1                          0.00                  0.00   \n",
       "2                          0.00                  1.00   \n",
       "3                          0.04                  0.03   \n",
       "4                          0.00                  0.00   \n",
       "5                          0.00                  0.00   \n",
       "6                          0.00                  1.00   \n",
       "7                          0.00                  1.00   \n",
       "8                          0.00                  1.00   \n",
       "9                          0.00                  1.00   \n",
       "10                         0.00                  0.00   \n",
       "11                         0.00                  1.00   \n",
       "12                         0.03                  0.00   \n",
       "13                         0.20                  0.00   \n",
       "14                         0.00                  1.00   \n",
       "\n",
       "    dst_host_srv_serror_rate  dst_host_rerror_rate  dst_host_srv_rerror_rate  \\\n",
       "0                       0.00                  0.05                      0.00   \n",
       "1                       0.00                  0.00                      0.00   \n",
       "2                       1.00                  0.00                      0.00   \n",
       "3                       0.01                  0.00                      0.01   \n",
       "4                       0.00                  0.00                      0.00   \n",
       "5                       0.00                  1.00                      1.00   \n",
       "6                       1.00                  0.00                      0.00   \n",
       "7                       1.00                  0.00                      0.00   \n",
       "8                       1.00                  0.00                      0.00   \n",
       "9                       1.00                  0.00                      0.00   \n",
       "10                      0.00                  1.00                      1.00   \n",
       "11                      1.00                  0.00                      0.00   \n",
       "12                      0.00                  0.00                      0.00   \n",
       "13                      0.00                  0.00                      0.00   \n",
       "14                      1.00                  0.00                      0.00   \n",
       "\n",
       "      attack  last_flag  \n",
       "0   noAttack         20  \n",
       "1   noAttack         15  \n",
       "2        DoS         19  \n",
       "3   noAttack         21  \n",
       "4   noAttack         21  \n",
       "5        DoS         21  \n",
       "6        DoS         21  \n",
       "7        DoS         21  \n",
       "8        DoS         21  \n",
       "9        DoS         21  \n",
       "10       DoS         21  \n",
       "11       DoS         21  \n",
       "12  noAttack         21  \n",
       "13       R2L         15  \n",
       "14       DoS         19  \n",
       "\n",
       "[15 rows x 43 columns]"
      ]
     },
     "execution_count": 15,
     "metadata": {},
     "output_type": "execute_result"
    }
   ],
   "source": [
    "# Replace each attack by its group\n",
    "new_attacks = []\n",
    "for i in df['attack']:\n",
    "  new_attacks.append( types_of_attacks[i] )\n",
    "\n",
    "df['attack'] = new_attacks\n",
    "\n",
    "print(\"Shape:\", df.shape)\n",
    "df.head(15)"
   ]
  },
  {
   "cell_type": "markdown",
   "metadata": {
    "id": "7gauJBOJ6y5u"
   },
   "source": [
    "## $\\rm{3)}$ Deleting uninformative variables\n",
    "\n",
    "Now, the purpose will be to analyse our data in order to detect which variables are relevant for the study, and which ones are not. It will then be possible to delete uninformative variables."
   ]
  },
  {
   "cell_type": "markdown",
   "metadata": {
    "id": "pO-zWaXajOyo"
   },
   "source": [
    "### $\\rm{3.a)}$ study of the variable is_host_login"
   ]
  },
  {
   "cell_type": "code",
   "execution_count": 16,
   "metadata": {
    "colab": {
     "base_uri": "https://localhost:8080/",
     "height": 296
    },
    "id": "lt05q69OjUQG",
    "outputId": "f8eec163-1f30-4817-ab4d-5285c7c871d9"
   },
   "outputs": [
    {
     "data": {
      "text/plain": [
       "<AxesSubplot:xlabel='attack', ylabel='is_host_login'>"
      ]
     },
     "execution_count": 16,
     "metadata": {},
     "output_type": "execute_result"
    },
    {
     "data": {
      "image/png": "[encoded data removed]",
      "text/plain": [
       "<Figure size 640x480 with 1 Axes>"
      ]
     },
     "metadata": {},
     "output_type": "display_data"
    }
   ],
   "source": [
    "sns.boxplot(x='attack', y='is_host_login', data=df) # we can see some outliers "
   ]
  },
  {
   "cell_type": "code",
   "execution_count": 17,
   "metadata": {
    "colab": {
     "base_uri": "https://localhost:8080/"
    },
    "id": "i7-GNbfMkrGA",
    "outputId": "5557897b-0094-4eb6-8a5a-6ad91947583e"
   },
   "outputs": [
    {
     "name": "stdout",
     "output_type": "stream",
     "text": [
      "number of rows where is_host_login!=0 : 1\n",
      "(125973, 42)\n"
     ]
    }
   ],
   "source": [
    "outliers = df[df['is_host_login'] != 0]\n",
    "print(\"number of rows where is_host_login!=0 :\", outliers.shape[0]) # only one outlier, uninformative variable\n",
    "\n",
    "df = df.drop('is_host_login', axis=1) # we decide to remove the feature\n",
    "print(df.shape) # should be (..,42)"
   ]
  },
  {
   "cell_type": "markdown",
   "metadata": {
    "id": "dvo4_LgJl0YP"
   },
   "source": [
    "### $\\rm{3.b)}$ study of the variable num_outbound_cmds"
   ]
  },
  {
   "cell_type": "code",
   "execution_count": 18,
   "metadata": {
    "colab": {
     "base_uri": "https://localhost:8080/",
     "height": 296
    },
    "id": "ySqGQBUZl8EA",
    "outputId": "4f2c71d9-21dc-4f25-fa28-ac18d2afe6a4"
   },
   "outputs": [
    {
     "data": {
      "text/plain": [
       "<AxesSubplot:xlabel='attack', ylabel='num_outbound_cmds'>"
      ]
     },
     "execution_count": 18,
     "metadata": {},
     "output_type": "execute_result"
    },
    {
     "data": {
      "image/png": "[encoded data removed]",
      "text/plain": [
       "<Figure size 640x480 with 1 Axes>"
      ]
     },
     "metadata": {},
     "output_type": "display_data"
    }
   ],
   "source": [
    "sns.scatterplot(x='attack', y='num_outbound_cmds', data=df) "
   ]
  },
  {
   "cell_type": "code",
   "execution_count": 19,
   "metadata": {
    "colab": {
     "base_uri": "https://localhost:8080/"
    },
    "id": "IQ-ESkNvukWu",
    "outputId": "984c7580-b27d-485a-be0f-9396a0a17f03"
   },
   "outputs": [
    {
     "name": "stdout",
     "output_type": "stream",
     "text": [
      "number of rows where num_outbound_cmds!=0 : 0\n",
      "(125973, 41)\n"
     ]
    }
   ],
   "source": [
    "print(\"number of rows where num_outbound_cmds!=0 :\",  df[df['num_outbound_cmds']!=0].shape[0] ) # always equal to 0\n",
    "df = df.drop('num_outbound_cmds', axis=1) # uninformative variable, we decide to remove it\n",
    "print(df.shape) # should be (..,41)"
   ]
  },
  {
   "cell_type": "markdown",
   "metadata": {
    "id": "m_rGdJwamRi0"
   },
   "source": [
    "### $\\rm{3.c)}$ study of the variable su_attempted"
   ]
  },
  {
   "cell_type": "code",
   "execution_count": 20,
   "metadata": {
    "colab": {
     "base_uri": "https://localhost:8080/",
     "height": 296
    },
    "id": "iIfFY4_pnB02",
    "outputId": "9b23419a-be90-416c-8de1-ede06eef2fef"
   },
   "outputs": [
    {
     "data": {
      "text/plain": [
       "<AxesSubplot:xlabel='attack', ylabel='su_attempted'>"
      ]
     },
     "execution_count": 20,
     "metadata": {},
     "output_type": "execute_result"
    },
    {
     "data": {
      "image/png": "[encoded data removed]",
      "text/plain": [
       "<Figure size 640x480 with 1 Axes>"
      ]
     },
     "metadata": {},
     "output_type": "display_data"
    }
   ],
   "source": [
    "sns.boxplot(x='attack', y='su_attempted', data=df) # we can see some outliers"
   ]
  },
  {
   "cell_type": "code",
   "execution_count": 21,
   "metadata": {
    "colab": {
     "base_uri": "https://localhost:8080/"
    },
    "id": "MOxffWwEnOGD",
    "outputId": "6357a67e-4e76-4228-cfb3-8618b0b8c3a6"
   },
   "outputs": [
    {
     "name": "stdout",
     "output_type": "stream",
     "text": [
      "number of rows where su_attempted==1 : 21\n",
      "number of rows where su_attempted==2 : 59\n",
      "total of noAttack cases: 67343\n"
     ]
    }
   ],
   "source": [
    "outliers1 = df[df['su_attempted'] == 1]\n",
    "outliers2 = df[df['su_attempted'] == 2]\n",
    "print(\"number of rows where su_attempted==1 :\", outliers1.shape[0])        # 21 mixed attacks with su_attempted==1\n",
    "print(\"number of rows where su_attempted==2 :\", outliers2.shape[0])        # 59 noAttack rows with su_attempted==2\n",
    "print(\"total of noAttack cases:\", df[df['attack'] == 'noAttack'].shape[0]) # 67_343 total noAttack \n",
    "\n",
    "# For this feature, we have 59 out of 67_343 noAttack that can be detected --> 0.0876%, too low"
   ]
  },
  {
   "cell_type": "code",
   "execution_count": 22,
   "metadata": {
    "colab": {
     "base_uri": "https://localhost:8080/"
    },
    "id": "3Lda3fpFpSXX",
    "outputId": "998370fd-9e95-4f17-deb5-4cb1f105d787"
   },
   "outputs": [
    {
     "name": "stdout",
     "output_type": "stream",
     "text": [
      "(125973, 40)\n"
     ]
    }
   ],
   "source": [
    "df = df.drop('su_attempted', axis=1) # uninformative variable, we decide to remove it\n",
    "print(df.shape) # should be 40"
   ]
  },
  {
   "cell_type": "markdown",
   "metadata": {
    "id": "5MexzeE_ocNm"
   },
   "source": [
    "### $\\rm{3.d)}$ study of the variable urgent"
   ]
  },
  {
   "cell_type": "code",
   "execution_count": 23,
   "metadata": {
    "colab": {
     "base_uri": "https://localhost:8080/",
     "height": 296
    },
    "id": "q5h-nBxYoe3z",
    "outputId": "7203296e-acc4-4f21-d7b6-d03796b2d6af"
   },
   "outputs": [
    {
     "data": {
      "text/plain": [
       "<AxesSubplot:xlabel='attack', ylabel='urgent'>"
      ]
     },
     "execution_count": 23,
     "metadata": {},
     "output_type": "execute_result"
    },
    {
     "data": {
      "image/png": "[encoded data removed]",
      "text/plain": [
       "<Figure size 640x480 with 1 Axes>"
      ]
     },
     "metadata": {},
     "output_type": "display_data"
    }
   ],
   "source": [
    "sns.boxplot(x='attack', y='urgent', data=df) # we can see some outliers"
   ]
  },
  {
   "cell_type": "code",
   "execution_count": 24,
   "metadata": {
    "colab": {
     "base_uri": "https://localhost:8080/"
    },
    "id": "rLlvQdVnow-5",
    "outputId": "868ed367-7ac7-4dc7-e9a0-000115c98252"
   },
   "outputs": [
    {
     "name": "stdout",
     "output_type": "stream",
     "text": [
      "number of rows where urgent!=0 : 9\n",
      "(125973, 39)\n"
     ]
    }
   ],
   "source": [
    "print(\"number of rows where urgent!=0 :\", df[df['urgent'] != 0].shape[0])  # 9 rows to describe mixed attacks \n",
    "df = df.drop('urgent', axis=1) # uninformative variable, we decide to remove the feature\n",
    "print(df.shape) # should be 39"
   ]
  },
  {
   "cell_type": "markdown",
   "metadata": {
    "id": "3WClVw5vtCTW"
   },
   "source": [
    "## $\\rm{4)}$ Extracting the labels and the data\n",
    "\n",
    "Now that we have manipulated the data, our goal will be to generate a dataset to work with in the next parts. First, we will extract the attack variable from the dataframe because these are our target variables."
   ]
  },
  {
   "cell_type": "code",
   "execution_count": 25,
   "metadata": {
    "colab": {
     "base_uri": "https://localhost:8080/",
     "height": 206
    },
    "id": "BUgkn5C-sDaM",
    "outputId": "471f7aa3-6e5f-4059-c7fe-85d3eb02bfc3"
   },
   "outputs": [
    {
     "data": {
      "text/html": [
       "<div>\n",
       "<style scoped>\n",
       "    .dataframe tbody tr th:only-of-type {\n",
       "        vertical-align: middle;\n",
       "    }\n",
       "\n",
       "    .dataframe tbody tr th {\n",
       "        vertical-align: top;\n",
       "    }\n",
       "\n",
       "    .dataframe thead th {\n",
       "        text-align: right;\n",
       "    }\n",
       "</style>\n",
       "<table border=\"1\" class=\"dataframe\">\n",
       "  <thead>\n",
       "    <tr style=\"text-align: right;\">\n",
       "      <th></th>\n",
       "      <th>attack</th>\n",
       "    </tr>\n",
       "  </thead>\n",
       "  <tbody>\n",
       "    <tr>\n",
       "      <th>0</th>\n",
       "      <td>noAttack</td>\n",
       "    </tr>\n",
       "    <tr>\n",
       "      <th>1</th>\n",
       "      <td>noAttack</td>\n",
       "    </tr>\n",
       "    <tr>\n",
       "      <th>2</th>\n",
       "      <td>DoS</td>\n",
       "    </tr>\n",
       "    <tr>\n",
       "      <th>3</th>\n",
       "      <td>noAttack</td>\n",
       "    </tr>\n",
       "    <tr>\n",
       "      <th>4</th>\n",
       "      <td>noAttack</td>\n",
       "    </tr>\n",
       "  </tbody>\n",
       "</table>\n",
       "</div>"
      ],
      "text/plain": [
       "     attack\n",
       "0  noAttack\n",
       "1  noAttack\n",
       "2       DoS\n",
       "3  noAttack\n",
       "4  noAttack"
      ]
     },
     "execution_count": 25,
     "metadata": {},
     "output_type": "execute_result"
    }
   ],
   "source": [
    "labels = df[['attack']]\n",
    "labels.head()"
   ]
  },
  {
   "cell_type": "code",
   "execution_count": 26,
   "metadata": {
    "colab": {
     "base_uri": "https://localhost:8080/",
     "height": 299
    },
    "id": "cSxOlWI1sXk9",
    "outputId": "c340a922-062d-4435-a894-f24ba7534a98"
   },
   "outputs": [
    {
     "data": {
      "text/html": [
       "<div>\n",
       "<style scoped>\n",
       "    .dataframe tbody tr th:only-of-type {\n",
       "        vertical-align: middle;\n",
       "    }\n",
       "\n",
       "    .dataframe tbody tr th {\n",
       "        vertical-align: top;\n",
       "    }\n",
       "\n",
       "    .dataframe thead th {\n",
       "        text-align: right;\n",
       "    }\n",
       "</style>\n",
       "<table border=\"1\" class=\"dataframe\">\n",
       "  <thead>\n",
       "    <tr style=\"text-align: right;\">\n",
       "      <th></th>\n",
       "      <th>duration</th>\n",
       "      <th>protocol_type</th>\n",
       "      <th>service</th>\n",
       "      <th>flag</th>\n",
       "      <th>src_bytes</th>\n",
       "      <th>dst_bytes</th>\n",
       "      <th>land</th>\n",
       "      <th>wrong_fragment</th>\n",
       "      <th>hot</th>\n",
       "      <th>num_failed_logins</th>\n",
       "      <th>...</th>\n",
       "      <th>dst_host_srv_count</th>\n",
       "      <th>dst_host_same_srv_rate</th>\n",
       "      <th>dst_host_diff_srv_rate</th>\n",
       "      <th>dst_host_same_src_port_rate</th>\n",
       "      <th>dst_host_srv_diff_host_rate</th>\n",
       "      <th>dst_host_serror_rate</th>\n",
       "      <th>dst_host_srv_serror_rate</th>\n",
       "      <th>dst_host_rerror_rate</th>\n",
       "      <th>dst_host_srv_rerror_rate</th>\n",
       "      <th>last_flag</th>\n",
       "    </tr>\n",
       "  </thead>\n",
       "  <tbody>\n",
       "    <tr>\n",
       "      <th>0</th>\n",
       "      <td>0</td>\n",
       "      <td>tcp</td>\n",
       "      <td>ftp_data</td>\n",
       "      <td>SF</td>\n",
       "      <td>491</td>\n",
       "      <td>0</td>\n",
       "      <td>0</td>\n",
       "      <td>0</td>\n",
       "      <td>0</td>\n",
       "      <td>0</td>\n",
       "      <td>...</td>\n",
       "      <td>25</td>\n",
       "      <td>0.17</td>\n",
       "      <td>0.03</td>\n",
       "      <td>0.17</td>\n",
       "      <td>0.00</td>\n",
       "      <td>0.00</td>\n",
       "      <td>0.00</td>\n",
       "      <td>0.05</td>\n",
       "      <td>0.00</td>\n",
       "      <td>20</td>\n",
       "    </tr>\n",
       "    <tr>\n",
       "      <th>1</th>\n",
       "      <td>0</td>\n",
       "      <td>udp</td>\n",
       "      <td>other</td>\n",
       "      <td>SF</td>\n",
       "      <td>146</td>\n",
       "      <td>0</td>\n",
       "      <td>0</td>\n",
       "      <td>0</td>\n",
       "      <td>0</td>\n",
       "      <td>0</td>\n",
       "      <td>...</td>\n",
       "      <td>1</td>\n",
       "      <td>0.00</td>\n",
       "      <td>0.60</td>\n",
       "      <td>0.88</td>\n",
       "      <td>0.00</td>\n",
       "      <td>0.00</td>\n",
       "      <td>0.00</td>\n",
       "      <td>0.00</td>\n",
       "      <td>0.00</td>\n",
       "      <td>15</td>\n",
       "    </tr>\n",
       "    <tr>\n",
       "      <th>2</th>\n",
       "      <td>0</td>\n",
       "      <td>tcp</td>\n",
       "      <td>private</td>\n",
       "      <td>S0</td>\n",
       "      <td>0</td>\n",
       "      <td>0</td>\n",
       "      <td>0</td>\n",
       "      <td>0</td>\n",
       "      <td>0</td>\n",
       "      <td>0</td>\n",
       "      <td>...</td>\n",
       "      <td>26</td>\n",
       "      <td>0.10</td>\n",
       "      <td>0.05</td>\n",
       "      <td>0.00</td>\n",
       "      <td>0.00</td>\n",
       "      <td>1.00</td>\n",
       "      <td>1.00</td>\n",
       "      <td>0.00</td>\n",
       "      <td>0.00</td>\n",
       "      <td>19</td>\n",
       "    </tr>\n",
       "    <tr>\n",
       "      <th>3</th>\n",
       "      <td>0</td>\n",
       "      <td>tcp</td>\n",
       "      <td>http</td>\n",
       "      <td>SF</td>\n",
       "      <td>232</td>\n",
       "      <td>8153</td>\n",
       "      <td>0</td>\n",
       "      <td>0</td>\n",
       "      <td>0</td>\n",
       "      <td>0</td>\n",
       "      <td>...</td>\n",
       "      <td>255</td>\n",
       "      <td>1.00</td>\n",
       "      <td>0.00</td>\n",
       "      <td>0.03</td>\n",
       "      <td>0.04</td>\n",
       "      <td>0.03</td>\n",
       "      <td>0.01</td>\n",
       "      <td>0.00</td>\n",
       "      <td>0.01</td>\n",
       "      <td>21</td>\n",
       "    </tr>\n",
       "    <tr>\n",
       "      <th>4</th>\n",
       "      <td>0</td>\n",
       "      <td>tcp</td>\n",
       "      <td>http</td>\n",
       "      <td>SF</td>\n",
       "      <td>199</td>\n",
       "      <td>420</td>\n",
       "      <td>0</td>\n",
       "      <td>0</td>\n",
       "      <td>0</td>\n",
       "      <td>0</td>\n",
       "      <td>...</td>\n",
       "      <td>255</td>\n",
       "      <td>1.00</td>\n",
       "      <td>0.00</td>\n",
       "      <td>0.00</td>\n",
       "      <td>0.00</td>\n",
       "      <td>0.00</td>\n",
       "      <td>0.00</td>\n",
       "      <td>0.00</td>\n",
       "      <td>0.00</td>\n",
       "      <td>21</td>\n",
       "    </tr>\n",
       "  </tbody>\n",
       "</table>\n",
       "<p>5 rows × 38 columns</p>\n",
       "</div>"
      ],
      "text/plain": [
       "   duration protocol_type   service flag  src_bytes  dst_bytes  land  \\\n",
       "0         0           tcp  ftp_data   SF        491          0     0   \n",
       "1         0           udp     other   SF        146          0     0   \n",
       "2         0           tcp   private   S0          0          0     0   \n",
       "3         0           tcp      http   SF        232       8153     0   \n",
       "4         0           tcp      http   SF        199        420     0   \n",
       "\n",
       "   wrong_fragment  hot  num_failed_logins  ...  dst_host_srv_count  \\\n",
       "0               0    0                  0  ...                  25   \n",
       "1               0    0                  0  ...                   1   \n",
       "2               0    0                  0  ...                  26   \n",
       "3               0    0                  0  ...                 255   \n",
       "4               0    0                  0  ...                 255   \n",
       "\n",
       "   dst_host_same_srv_rate  dst_host_diff_srv_rate  \\\n",
       "0                    0.17                    0.03   \n",
       "1                    0.00                    0.60   \n",
       "2                    0.10                    0.05   \n",
       "3                    1.00                    0.00   \n",
       "4                    1.00                    0.00   \n",
       "\n",
       "   dst_host_same_src_port_rate  dst_host_srv_diff_host_rate  \\\n",
       "0                         0.17                         0.00   \n",
       "1                         0.88                         0.00   \n",
       "2                         0.00                         0.00   \n",
       "3                         0.03                         0.04   \n",
       "4                         0.00                         0.00   \n",
       "\n",
       "   dst_host_serror_rate  dst_host_srv_serror_rate  dst_host_rerror_rate  \\\n",
       "0                  0.00                      0.00                  0.05   \n",
       "1                  0.00                      0.00                  0.00   \n",
       "2                  1.00                      1.00                  0.00   \n",
       "3                  0.03                      0.01                  0.00   \n",
       "4                  0.00                      0.00                  0.00   \n",
       "\n",
       "   dst_host_srv_rerror_rate  last_flag  \n",
       "0                      0.00         20  \n",
       "1                      0.00         15  \n",
       "2                      0.00         19  \n",
       "3                      0.01         21  \n",
       "4                      0.00         21  \n",
       "\n",
       "[5 rows x 38 columns]"
      ]
     },
     "execution_count": 26,
     "metadata": {},
     "output_type": "execute_result"
    }
   ],
   "source": [
    "df.drop(['attack'], axis=1, inplace=True)\n",
    "df.head()"
   ]
  },
  {
   "cell_type": "markdown",
   "metadata": {
    "id": "mLV6zoY1W7LB"
   },
   "source": [
    "## $\\rm{5)}$ One-hot encoding for categorical variables\n",
    "\n",
    "By displaying the types of all features at the beginning of this part, we saw that there are some categorical variables. We will then transform strings into numerical values by using One hot encoding, a method of converting data to prepare it for an algorithm and get a better prediction."
   ]
  },
  {
   "cell_type": "code",
   "execution_count": 27,
   "metadata": {
    "colab": {
     "base_uri": "https://localhost:8080/",
     "height": 161
    },
    "id": "VlqhJWlkspLE",
    "outputId": "9a37e06c-4b6a-434a-fa1f-a65f01ab3730"
   },
   "outputs": [
    {
     "name": "stdout",
     "output_type": "stream",
     "text": [
      "(125973, 3)\n"
     ]
    },
    {
     "data": {
      "text/html": [
       "<div>\n",
       "<style scoped>\n",
       "    .dataframe tbody tr th:only-of-type {\n",
       "        vertical-align: middle;\n",
       "    }\n",
       "\n",
       "    .dataframe tbody tr th {\n",
       "        vertical-align: top;\n",
       "    }\n",
       "\n",
       "    .dataframe thead th {\n",
       "        text-align: right;\n",
       "    }\n",
       "</style>\n",
       "<table border=\"1\" class=\"dataframe\">\n",
       "  <thead>\n",
       "    <tr style=\"text-align: right;\">\n",
       "      <th></th>\n",
       "      <th>protocol_type</th>\n",
       "      <th>service</th>\n",
       "      <th>flag</th>\n",
       "    </tr>\n",
       "  </thead>\n",
       "  <tbody>\n",
       "    <tr>\n",
       "      <th>0</th>\n",
       "      <td>tcp</td>\n",
       "      <td>ftp_data</td>\n",
       "      <td>SF</td>\n",
       "    </tr>\n",
       "    <tr>\n",
       "      <th>1</th>\n",
       "      <td>udp</td>\n",
       "      <td>other</td>\n",
       "      <td>SF</td>\n",
       "    </tr>\n",
       "    <tr>\n",
       "      <th>2</th>\n",
       "      <td>tcp</td>\n",
       "      <td>private</td>\n",
       "      <td>S0</td>\n",
       "    </tr>\n",
       "  </tbody>\n",
       "</table>\n",
       "</div>"
      ],
      "text/plain": [
       "  protocol_type   service flag\n",
       "0           tcp  ftp_data   SF\n",
       "1           udp     other   SF\n",
       "2           tcp   private   S0"
      ]
     },
     "execution_count": 27,
     "metadata": {},
     "output_type": "execute_result"
    }
   ],
   "source": [
    "# Display categorical variables\n",
    "categorical = df.select_dtypes(include=[object])\n",
    "print(categorical.shape)\n",
    "categorical.head(3)"
   ]
  },
  {
   "cell_type": "code",
   "execution_count": 28,
   "metadata": {
    "id": "uh_KVkNzs5ot"
   },
   "outputs": [],
   "source": [
    "def one_hot_encoding(categorical):\n",
    "\n",
    "    # 1. Instantiate\n",
    "    oneHotEncoder = OneHotEncoder()\n",
    "    \n",
    "    # 2. Fit\n",
    "    oneHotEncoder.fit(categorical)\n",
    "\n",
    "    # 3. Transform\n",
    "    encoded = oneHotEncoder.transform(categorical).toarray()\n",
    "\n",
    "    # 4. Keep the result into a dataframe\n",
    "    encoded = pd.DataFrame(encoded, columns=oneHotEncoder.get_feature_names_out())\n",
    "\n",
    "    return encoded, oneHotEncoder"
   ]
  },
  {
   "cell_type": "code",
   "execution_count": 29,
   "metadata": {
    "colab": {
     "base_uri": "https://localhost:8080/",
     "height": 317
    },
    "id": "UCJVgKNHtUNe",
    "outputId": "09e24d51-692f-4261-f81d-091257070a00"
   },
   "outputs": [
    {
     "name": "stdout",
     "output_type": "stream",
     "text": [
      "(125973, 84)\n"
     ]
    },
    {
     "data": {
      "text/html": [
       "<div>\n",
       "<style scoped>\n",
       "    .dataframe tbody tr th:only-of-type {\n",
       "        vertical-align: middle;\n",
       "    }\n",
       "\n",
       "    .dataframe tbody tr th {\n",
       "        vertical-align: top;\n",
       "    }\n",
       "\n",
       "    .dataframe thead th {\n",
       "        text-align: right;\n",
       "    }\n",
       "</style>\n",
       "<table border=\"1\" class=\"dataframe\">\n",
       "  <thead>\n",
       "    <tr style=\"text-align: right;\">\n",
       "      <th></th>\n",
       "      <th>protocol_type_icmp</th>\n",
       "      <th>protocol_type_tcp</th>\n",
       "      <th>protocol_type_udp</th>\n",
       "      <th>service_IRC</th>\n",
       "      <th>service_X11</th>\n",
       "      <th>service_Z39_50</th>\n",
       "      <th>service_aol</th>\n",
       "      <th>service_auth</th>\n",
       "      <th>service_bgp</th>\n",
       "      <th>service_courier</th>\n",
       "      <th>...</th>\n",
       "      <th>flag_REJ</th>\n",
       "      <th>flag_RSTO</th>\n",
       "      <th>flag_RSTOS0</th>\n",
       "      <th>flag_RSTR</th>\n",
       "      <th>flag_S0</th>\n",
       "      <th>flag_S1</th>\n",
       "      <th>flag_S2</th>\n",
       "      <th>flag_S3</th>\n",
       "      <th>flag_SF</th>\n",
       "      <th>flag_SH</th>\n",
       "    </tr>\n",
       "  </thead>\n",
       "  <tbody>\n",
       "    <tr>\n",
       "      <th>0</th>\n",
       "      <td>0.0</td>\n",
       "      <td>1.0</td>\n",
       "      <td>0.0</td>\n",
       "      <td>0.0</td>\n",
       "      <td>0.0</td>\n",
       "      <td>0.0</td>\n",
       "      <td>0.0</td>\n",
       "      <td>0.0</td>\n",
       "      <td>0.0</td>\n",
       "      <td>0.0</td>\n",
       "      <td>...</td>\n",
       "      <td>0.0</td>\n",
       "      <td>0.0</td>\n",
       "      <td>0.0</td>\n",
       "      <td>0.0</td>\n",
       "      <td>0.0</td>\n",
       "      <td>0.0</td>\n",
       "      <td>0.0</td>\n",
       "      <td>0.0</td>\n",
       "      <td>1.0</td>\n",
       "      <td>0.0</td>\n",
       "    </tr>\n",
       "    <tr>\n",
       "      <th>1</th>\n",
       "      <td>0.0</td>\n",
       "      <td>0.0</td>\n",
       "      <td>1.0</td>\n",
       "      <td>0.0</td>\n",
       "      <td>0.0</td>\n",
       "      <td>0.0</td>\n",
       "      <td>0.0</td>\n",
       "      <td>0.0</td>\n",
       "      <td>0.0</td>\n",
       "      <td>0.0</td>\n",
       "      <td>...</td>\n",
       "      <td>0.0</td>\n",
       "      <td>0.0</td>\n",
       "      <td>0.0</td>\n",
       "      <td>0.0</td>\n",
       "      <td>0.0</td>\n",
       "      <td>0.0</td>\n",
       "      <td>0.0</td>\n",
       "      <td>0.0</td>\n",
       "      <td>1.0</td>\n",
       "      <td>0.0</td>\n",
       "    </tr>\n",
       "    <tr>\n",
       "      <th>2</th>\n",
       "      <td>0.0</td>\n",
       "      <td>1.0</td>\n",
       "      <td>0.0</td>\n",
       "      <td>0.0</td>\n",
       "      <td>0.0</td>\n",
       "      <td>0.0</td>\n",
       "      <td>0.0</td>\n",
       "      <td>0.0</td>\n",
       "      <td>0.0</td>\n",
       "      <td>0.0</td>\n",
       "      <td>...</td>\n",
       "      <td>0.0</td>\n",
       "      <td>0.0</td>\n",
       "      <td>0.0</td>\n",
       "      <td>0.0</td>\n",
       "      <td>1.0</td>\n",
       "      <td>0.0</td>\n",
       "      <td>0.0</td>\n",
       "      <td>0.0</td>\n",
       "      <td>0.0</td>\n",
       "      <td>0.0</td>\n",
       "    </tr>\n",
       "    <tr>\n",
       "      <th>3</th>\n",
       "      <td>0.0</td>\n",
       "      <td>1.0</td>\n",
       "      <td>0.0</td>\n",
       "      <td>0.0</td>\n",
       "      <td>0.0</td>\n",
       "      <td>0.0</td>\n",
       "      <td>0.0</td>\n",
       "      <td>0.0</td>\n",
       "      <td>0.0</td>\n",
       "      <td>0.0</td>\n",
       "      <td>...</td>\n",
       "      <td>0.0</td>\n",
       "      <td>0.0</td>\n",
       "      <td>0.0</td>\n",
       "      <td>0.0</td>\n",
       "      <td>0.0</td>\n",
       "      <td>0.0</td>\n",
       "      <td>0.0</td>\n",
       "      <td>0.0</td>\n",
       "      <td>1.0</td>\n",
       "      <td>0.0</td>\n",
       "    </tr>\n",
       "    <tr>\n",
       "      <th>4</th>\n",
       "      <td>0.0</td>\n",
       "      <td>1.0</td>\n",
       "      <td>0.0</td>\n",
       "      <td>0.0</td>\n",
       "      <td>0.0</td>\n",
       "      <td>0.0</td>\n",
       "      <td>0.0</td>\n",
       "      <td>0.0</td>\n",
       "      <td>0.0</td>\n",
       "      <td>0.0</td>\n",
       "      <td>...</td>\n",
       "      <td>0.0</td>\n",
       "      <td>0.0</td>\n",
       "      <td>0.0</td>\n",
       "      <td>0.0</td>\n",
       "      <td>0.0</td>\n",
       "      <td>0.0</td>\n",
       "      <td>0.0</td>\n",
       "      <td>0.0</td>\n",
       "      <td>1.0</td>\n",
       "      <td>0.0</td>\n",
       "    </tr>\n",
       "  </tbody>\n",
       "</table>\n",
       "<p>5 rows × 84 columns</p>\n",
       "</div>"
      ],
      "text/plain": [
       "   protocol_type_icmp  protocol_type_tcp  protocol_type_udp  service_IRC  \\\n",
       "0                 0.0                1.0                0.0          0.0   \n",
       "1                 0.0                0.0                1.0          0.0   \n",
       "2                 0.0                1.0                0.0          0.0   \n",
       "3                 0.0                1.0                0.0          0.0   \n",
       "4                 0.0                1.0                0.0          0.0   \n",
       "\n",
       "   service_X11  service_Z39_50  service_aol  service_auth  service_bgp  \\\n",
       "0          0.0             0.0          0.0           0.0          0.0   \n",
       "1          0.0             0.0          0.0           0.0          0.0   \n",
       "2          0.0             0.0          0.0           0.0          0.0   \n",
       "3          0.0             0.0          0.0           0.0          0.0   \n",
       "4          0.0             0.0          0.0           0.0          0.0   \n",
       "\n",
       "   service_courier  ...  flag_REJ  flag_RSTO  flag_RSTOS0  flag_RSTR  flag_S0  \\\n",
       "0              0.0  ...       0.0        0.0          0.0        0.0      0.0   \n",
       "1              0.0  ...       0.0        0.0          0.0        0.0      0.0   \n",
       "2              0.0  ...       0.0        0.0          0.0        0.0      1.0   \n",
       "3              0.0  ...       0.0        0.0          0.0        0.0      0.0   \n",
       "4              0.0  ...       0.0        0.0          0.0        0.0      0.0   \n",
       "\n",
       "   flag_S1  flag_S2  flag_S3  flag_SF  flag_SH  \n",
       "0      0.0      0.0      0.0      1.0      0.0  \n",
       "1      0.0      0.0      0.0      1.0      0.0  \n",
       "2      0.0      0.0      0.0      0.0      0.0  \n",
       "3      0.0      0.0      0.0      1.0      0.0  \n",
       "4      0.0      0.0      0.0      1.0      0.0  \n",
       "\n",
       "[5 rows x 84 columns]"
      ]
     },
     "execution_count": 29,
     "metadata": {},
     "output_type": "execute_result"
    }
   ],
   "source": [
    "encoded, oneHotEncoder = one_hot_encoding(categorical)\n",
    "\n",
    "print(encoded.shape)\n",
    "encoded.head(5)"
   ]
  },
  {
   "cell_type": "code",
   "execution_count": 30,
   "metadata": {
    "colab": {
     "base_uri": "https://localhost:8080/",
     "height": 223
    },
    "id": "upAlbhcwuiNj",
    "outputId": "2e4aa394-ed70-4ad4-80ba-2a8da0798f11"
   },
   "outputs": [
    {
     "name": "stdout",
     "output_type": "stream",
     "text": [
      "(125973, 5)\n"
     ]
    },
    {
     "data": {
      "text/html": [
       "<div>\n",
       "<style scoped>\n",
       "    .dataframe tbody tr th:only-of-type {\n",
       "        vertical-align: middle;\n",
       "    }\n",
       "\n",
       "    .dataframe tbody tr th {\n",
       "        vertical-align: top;\n",
       "    }\n",
       "\n",
       "    .dataframe thead th {\n",
       "        text-align: right;\n",
       "    }\n",
       "</style>\n",
       "<table border=\"1\" class=\"dataframe\">\n",
       "  <thead>\n",
       "    <tr style=\"text-align: right;\">\n",
       "      <th></th>\n",
       "      <th>attack_DoS</th>\n",
       "      <th>attack_Probe</th>\n",
       "      <th>attack_R2L</th>\n",
       "      <th>attack_U2R</th>\n",
       "      <th>attack_noAttack</th>\n",
       "    </tr>\n",
       "  </thead>\n",
       "  <tbody>\n",
       "    <tr>\n",
       "      <th>0</th>\n",
       "      <td>0.0</td>\n",
       "      <td>0.0</td>\n",
       "      <td>0.0</td>\n",
       "      <td>0.0</td>\n",
       "      <td>1.0</td>\n",
       "    </tr>\n",
       "    <tr>\n",
       "      <th>1</th>\n",
       "      <td>0.0</td>\n",
       "      <td>0.0</td>\n",
       "      <td>0.0</td>\n",
       "      <td>0.0</td>\n",
       "      <td>1.0</td>\n",
       "    </tr>\n",
       "    <tr>\n",
       "      <th>2</th>\n",
       "      <td>1.0</td>\n",
       "      <td>0.0</td>\n",
       "      <td>0.0</td>\n",
       "      <td>0.0</td>\n",
       "      <td>0.0</td>\n",
       "    </tr>\n",
       "    <tr>\n",
       "      <th>3</th>\n",
       "      <td>0.0</td>\n",
       "      <td>0.0</td>\n",
       "      <td>0.0</td>\n",
       "      <td>0.0</td>\n",
       "      <td>1.0</td>\n",
       "    </tr>\n",
       "    <tr>\n",
       "      <th>4</th>\n",
       "      <td>0.0</td>\n",
       "      <td>0.0</td>\n",
       "      <td>0.0</td>\n",
       "      <td>0.0</td>\n",
       "      <td>1.0</td>\n",
       "    </tr>\n",
       "  </tbody>\n",
       "</table>\n",
       "</div>"
      ],
      "text/plain": [
       "   attack_DoS  attack_Probe  attack_R2L  attack_U2R  attack_noAttack\n",
       "0         0.0           0.0         0.0         0.0              1.0\n",
       "1         0.0           0.0         0.0         0.0              1.0\n",
       "2         1.0           0.0         0.0         0.0              0.0\n",
       "3         0.0           0.0         0.0         0.0              1.0\n",
       "4         0.0           0.0         0.0         0.0              1.0"
      ]
     },
     "execution_count": 30,
     "metadata": {},
     "output_type": "execute_result"
    }
   ],
   "source": [
    "labels_encoded ,_ = one_hot_encoding(labels)\n",
    "\n",
    "print(labels_encoded.shape)\n",
    "labels_encoded.head(5)"
   ]
  },
  {
   "cell_type": "markdown",
   "metadata": {
    "id": "hh4OoQ0kyl_C"
   },
   "source": [
    "Once that we have encoded the labels and categorical variables from the dataframe, we can generate our cleaned dataset by adding the result from one hot encoding to the original dataframe."
   ]
  },
  {
   "cell_type": "code",
   "execution_count": 31,
   "metadata": {
    "colab": {
     "base_uri": "https://localhost:8080/",
     "height": 351
    },
    "id": "jio6H6Zzv3VY",
    "outputId": "7989615d-ba74-44df-e12e-a7e75c27114a"
   },
   "outputs": [
    {
     "name": "stdout",
     "output_type": "stream",
     "text": [
      "df shape before dropping: (125973, 38)\n",
      "df shape after dropping : (125973, 35)\n",
      "(125973, 119)\n"
     ]
    },
    {
     "data": {
      "text/html": [
       "<div>\n",
       "<style scoped>\n",
       "    .dataframe tbody tr th:only-of-type {\n",
       "        vertical-align: middle;\n",
       "    }\n",
       "\n",
       "    .dataframe tbody tr th {\n",
       "        vertical-align: top;\n",
       "    }\n",
       "\n",
       "    .dataframe thead th {\n",
       "        text-align: right;\n",
       "    }\n",
       "</style>\n",
       "<table border=\"1\" class=\"dataframe\">\n",
       "  <thead>\n",
       "    <tr style=\"text-align: right;\">\n",
       "      <th></th>\n",
       "      <th>duration</th>\n",
       "      <th>src_bytes</th>\n",
       "      <th>dst_bytes</th>\n",
       "      <th>land</th>\n",
       "      <th>wrong_fragment</th>\n",
       "      <th>hot</th>\n",
       "      <th>num_failed_logins</th>\n",
       "      <th>logged_in</th>\n",
       "      <th>num_compromised</th>\n",
       "      <th>root_shell</th>\n",
       "      <th>...</th>\n",
       "      <th>flag_REJ</th>\n",
       "      <th>flag_RSTO</th>\n",
       "      <th>flag_RSTOS0</th>\n",
       "      <th>flag_RSTR</th>\n",
       "      <th>flag_S0</th>\n",
       "      <th>flag_S1</th>\n",
       "      <th>flag_S2</th>\n",
       "      <th>flag_S3</th>\n",
       "      <th>flag_SF</th>\n",
       "      <th>flag_SH</th>\n",
       "    </tr>\n",
       "  </thead>\n",
       "  <tbody>\n",
       "    <tr>\n",
       "      <th>0</th>\n",
       "      <td>0</td>\n",
       "      <td>491</td>\n",
       "      <td>0</td>\n",
       "      <td>0</td>\n",
       "      <td>0</td>\n",
       "      <td>0</td>\n",
       "      <td>0</td>\n",
       "      <td>0</td>\n",
       "      <td>0</td>\n",
       "      <td>0</td>\n",
       "      <td>...</td>\n",
       "      <td>0.0</td>\n",
       "      <td>0.0</td>\n",
       "      <td>0.0</td>\n",
       "      <td>0.0</td>\n",
       "      <td>0.0</td>\n",
       "      <td>0.0</td>\n",
       "      <td>0.0</td>\n",
       "      <td>0.0</td>\n",
       "      <td>1.0</td>\n",
       "      <td>0.0</td>\n",
       "    </tr>\n",
       "    <tr>\n",
       "      <th>1</th>\n",
       "      <td>0</td>\n",
       "      <td>146</td>\n",
       "      <td>0</td>\n",
       "      <td>0</td>\n",
       "      <td>0</td>\n",
       "      <td>0</td>\n",
       "      <td>0</td>\n",
       "      <td>0</td>\n",
       "      <td>0</td>\n",
       "      <td>0</td>\n",
       "      <td>...</td>\n",
       "      <td>0.0</td>\n",
       "      <td>0.0</td>\n",
       "      <td>0.0</td>\n",
       "      <td>0.0</td>\n",
       "      <td>0.0</td>\n",
       "      <td>0.0</td>\n",
       "      <td>0.0</td>\n",
       "      <td>0.0</td>\n",
       "      <td>1.0</td>\n",
       "      <td>0.0</td>\n",
       "    </tr>\n",
       "    <tr>\n",
       "      <th>2</th>\n",
       "      <td>0</td>\n",
       "      <td>0</td>\n",
       "      <td>0</td>\n",
       "      <td>0</td>\n",
       "      <td>0</td>\n",
       "      <td>0</td>\n",
       "      <td>0</td>\n",
       "      <td>0</td>\n",
       "      <td>0</td>\n",
       "      <td>0</td>\n",
       "      <td>...</td>\n",
       "      <td>0.0</td>\n",
       "      <td>0.0</td>\n",
       "      <td>0.0</td>\n",
       "      <td>0.0</td>\n",
       "      <td>1.0</td>\n",
       "      <td>0.0</td>\n",
       "      <td>0.0</td>\n",
       "      <td>0.0</td>\n",
       "      <td>0.0</td>\n",
       "      <td>0.0</td>\n",
       "    </tr>\n",
       "    <tr>\n",
       "      <th>3</th>\n",
       "      <td>0</td>\n",
       "      <td>232</td>\n",
       "      <td>8153</td>\n",
       "      <td>0</td>\n",
       "      <td>0</td>\n",
       "      <td>0</td>\n",
       "      <td>0</td>\n",
       "      <td>1</td>\n",
       "      <td>0</td>\n",
       "      <td>0</td>\n",
       "      <td>...</td>\n",
       "      <td>0.0</td>\n",
       "      <td>0.0</td>\n",
       "      <td>0.0</td>\n",
       "      <td>0.0</td>\n",
       "      <td>0.0</td>\n",
       "      <td>0.0</td>\n",
       "      <td>0.0</td>\n",
       "      <td>0.0</td>\n",
       "      <td>1.0</td>\n",
       "      <td>0.0</td>\n",
       "    </tr>\n",
       "    <tr>\n",
       "      <th>4</th>\n",
       "      <td>0</td>\n",
       "      <td>199</td>\n",
       "      <td>420</td>\n",
       "      <td>0</td>\n",
       "      <td>0</td>\n",
       "      <td>0</td>\n",
       "      <td>0</td>\n",
       "      <td>1</td>\n",
       "      <td>0</td>\n",
       "      <td>0</td>\n",
       "      <td>...</td>\n",
       "      <td>0.0</td>\n",
       "      <td>0.0</td>\n",
       "      <td>0.0</td>\n",
       "      <td>0.0</td>\n",
       "      <td>0.0</td>\n",
       "      <td>0.0</td>\n",
       "      <td>0.0</td>\n",
       "      <td>0.0</td>\n",
       "      <td>1.0</td>\n",
       "      <td>0.0</td>\n",
       "    </tr>\n",
       "  </tbody>\n",
       "</table>\n",
       "<p>5 rows × 119 columns</p>\n",
       "</div>"
      ],
      "text/plain": [
       "   duration  src_bytes  dst_bytes  land  wrong_fragment  hot  \\\n",
       "0         0        491          0     0               0    0   \n",
       "1         0        146          0     0               0    0   \n",
       "2         0          0          0     0               0    0   \n",
       "3         0        232       8153     0               0    0   \n",
       "4         0        199        420     0               0    0   \n",
       "\n",
       "   num_failed_logins  logged_in  num_compromised  root_shell  ...  flag_REJ  \\\n",
       "0                  0          0                0           0  ...       0.0   \n",
       "1                  0          0                0           0  ...       0.0   \n",
       "2                  0          0                0           0  ...       0.0   \n",
       "3                  0          1                0           0  ...       0.0   \n",
       "4                  0          1                0           0  ...       0.0   \n",
       "\n",
       "   flag_RSTO  flag_RSTOS0  flag_RSTR  flag_S0  flag_S1  flag_S2  flag_S3  \\\n",
       "0        0.0          0.0        0.0      0.0      0.0      0.0      0.0   \n",
       "1        0.0          0.0        0.0      0.0      0.0      0.0      0.0   \n",
       "2        0.0          0.0        0.0      1.0      0.0      0.0      0.0   \n",
       "3        0.0          0.0        0.0      0.0      0.0      0.0      0.0   \n",
       "4        0.0          0.0        0.0      0.0      0.0      0.0      0.0   \n",
       "\n",
       "   flag_SF  flag_SH  \n",
       "0      1.0      0.0  \n",
       "1      1.0      0.0  \n",
       "2      0.0      0.0  \n",
       "3      1.0      0.0  \n",
       "4      1.0      0.0  \n",
       "\n",
       "[5 rows x 119 columns]"
      ]
     },
     "execution_count": 31,
     "metadata": {},
     "output_type": "execute_result"
    }
   ],
   "source": [
    "# Drop the categorical data from the original dataframe\n",
    "print(\"df shape before dropping:\", df.shape)\n",
    "df.drop(df.select_dtypes(include=[object]), axis=1, inplace=True)  \n",
    "print(\"df shape after dropping :\", df.shape)\n",
    "\n",
    "# Join the oneHotEncoded data to the dataframe\n",
    "data = df.join(encoded) \n",
    "print(data.shape)\n",
    "data.head(5)"
   ]
  },
  {
   "cell_type": "markdown",
   "metadata": {
    "id": "R5AKbMwjNX6C"
   },
   "source": [
    "## $\\rm{6)}$ Stocking useful variables into a .picke file\n",
    "\n",
    "Finally, we will stock the cleaned dataset and the oneHotEncoder() generated thanks to the previous part into .pickle files, in order to work with them for the future, without having to repeat the previous steps each time."
   ]
  },
  {
   "cell_type": "code",
   "execution_count": 32,
   "metadata": {
    "id": "R6lavN7WNhZb"
   },
   "outputs": [],
   "source": [
    "dataset_normal = (data, labels_encoded)               # we store our dataset in a variable\n",
    "\n",
    "with open('./data/dataset_normal.pickle', 'wb') as p: # we create the .pickle file\n",
    "    pickle.dump(dataset_normal, p)                    # we put the data of the variable in the .pickle file\n",
    "\n",
    "with open('./data/oneHotEncoder.pickle', 'wb') as p:  # we create the .pickle file\n",
    "    pickle.dump(oneHotEncoder, p)                     # we put the data of the variable in the .pickle file"
   ]
  },
  {
   "cell_type": "markdown",
   "metadata": {
    "id": "OdGwakdC5Ndq"
   },
   "source": [
    "## $\\rm{7)}$ Taking a smaller dataset\n",
    "Since we have more than 100 000 data in our dataset, we can try to train our models on a smaller dataset to see how many data we need to have a good model (let's say accuracy > 95%). We will then implement a function *truncation()* that will be useful to us for the model selection, in the part $\\rm{III-1)}$ :"
   ]
  },
  {
   "cell_type": "code",
   "execution_count": 33,
   "metadata": {
    "id": "Lw5X-_8wTl6j"
   },
   "outputs": [],
   "source": [
    "def truncation(data, labels, ratio=0.2): \n",
    "    # Truncation of the data\n",
    "    trunc_data = data.sample(frac=1, random_state=42).reset_index()\n",
    "    trunc_data = trunc_data.truncate( after = int(data.shape[0]*ratio) )\n",
    "    trunc_data = trunc_data.drop(columns = 'index')    \n",
    "\n",
    "    # Truncation of the labels\n",
    "    trunc_labels = labels.sample(frac=1, random_state=42).reset_index()\n",
    "    trunc_labels = trunc_labels.truncate( after = int(labels.shape[0]*ratio) )\n",
    "    trunc_labels = trunc_labels.drop(columns = 'index')  \n",
    "    \n",
    "    return trunc_data, trunc_labels"
   ]
  },
  {
   "cell_type": "code",
   "execution_count": 34,
   "metadata": {
    "colab": {
     "base_uri": "https://localhost:8080/"
    },
    "id": "Cv01YeF65tdT",
    "outputId": "4b1874e2-5c35-4910-9df3-182809c6f8fc"
   },
   "outputs": [
    {
     "name": "stdout",
     "output_type": "stream",
     "text": [
      "(125973, 119)\n",
      "(125973, 5)\n",
      "(25195, 119)\n",
      "(25195, 5)\n"
     ]
    }
   ],
   "source": [
    "labels = labels_encoded\n",
    "print(data.shape)\n",
    "print(labels.shape)\n",
    "\n",
    "trunc_data, trunc_labels = truncation(data, labels)\n",
    "print(trunc_data.shape)\n",
    "print(trunc_labels.shape)"
   ]
  },
  {
   "cell_type": "markdown",
   "metadata": {
    "id": "pWfniDFBtQr_"
   },
   "source": [
    "# Recovering the dataset from the features engineering\n",
    "\n",
    "To easily work with our dataset made during the part $\\rm{I}$, we can recover it from the *dataset_normal.pickle* file as it follows :"
   ]
  },
  {
   "cell_type": "code",
   "execution_count": 35,
   "metadata": {
    "id": "FTNLqNKZN0VK"
   },
   "outputs": [],
   "source": [
    "with open(projectPath+'/data/dataset_normal.pickle', 'rb') as fp : # we recover the .pickle file\n",
    "    dataset_normal = pickle.load(fp)                               # we recover the dataset from the .pickle file\n",
    "\n",
    "(data, labels) = dataset_normal                                    # we recover the data and the labels from the dataset"
   ]
  },
  {
   "cell_type": "markdown",
   "metadata": {
    "id": "BAoJ2lNAvbJ0"
   },
   "source": [
    "# $\\rm{II}$<b> - Feature selection</b>"
   ]
  },
  {
   "cell_type": "markdown",
   "metadata": {
    "id": "mAMrFScD2BgY"
   },
   "source": [
    "There are three general classes of feature selection algorithms: filter methods, wrapper methods and embedded methods.\n",
    "\n",
    "<b>1. Filter methods</b>\n",
    "\n",
    "Filter feature selection methods apply a statistical measure to assign a scoring to each feature. The features are ranked by the score and either selected to be kept or removed from the dataset. The methods are often univariate and consider the feature independently, or with regard to the dependent variable.\n",
    "\n",
    "Some examples of some filter methods include the Chi squared test, information gain and correlation coefficient scores.\n",
    "\n",
    "\n",
    "<b>2. Wrapper methods</b>\n",
    "\n",
    "Wrapper methods consider the selection of a set of features as a search problem, where different combinations are prepared, evaluated and compared to other combinations. A predictive model is used to evaluate a combination of features and assign a score based on model accuracy.\n",
    "\n",
    "An example if a wrapper method is the recursive feature elimination algorithm.\n",
    "\n",
    "<b>3. Embedded methods</b>\n",
    "\n",
    "Embedded methods learn which features best contribute to the accuracy of the model while the model is being created. The most common type of embedded feature selection methods are regularization methods.\n",
    "\n",
    "Regularization methods are also called penalization methods that introduce additional constraints into the optimization of a predictive algorithm (such as a regression algorithm) that bias the model toward lower complexity (fewer coefficients).\n",
    "\n",
    "Examples of regularization algorithms are the LASSO, Elastic Net and Ridge Regression. Those algorithms performs the best in the regression analysis, so we won't use them for this project."
   ]
  },
  {
   "cell_type": "markdown",
   "metadata": {
    "id": "xWsJloLiSqML"
   },
   "source": [
    "### $\\rm{1)}$ Base performance"
   ]
  },
  {
   "cell_type": "markdown",
   "metadata": {
    "id": "V5yRnpjlRPqb"
   },
   "source": [
    "Let’s establish a base performance with a Random Forest Classifier. We will first build the feature and target arrays and divide them into train and test sets. Then, we will fit the estimator and see which score we can obtain:"
   ]
  },
  {
   "cell_type": "code",
   "execution_count": 36,
   "metadata": {
    "colab": {
     "base_uri": "https://localhost:8080/"
    },
    "id": "6m6drr-CNgWj",
    "outputId": "4fdadf33-87ad-4809-f9d9-6d14fcd2e97c"
   },
   "outputs": [
    {
     "name": "stdout",
     "output_type": "stream",
     "text": [
      "X_train : (84401, 119)\n",
      "X_test  : (41572, 119)\n",
      "y_train : (84401, 5)\n",
      "y_test  : (41572, 5)\n"
     ]
    }
   ],
   "source": [
    "# Dataset distribution \n",
    "X_train, X_test, y_train, y_test = train_test_split(data, labels, \n",
    "                                                    test_size=0.33, \n",
    "                                                    random_state=42,\n",
    "                                                    stratify=labels)\n",
    "print(\"X_train :\", X_train.shape)\n",
    "print(\"X_test  :\", X_test.shape)\n",
    "print(\"y_train :\", y_train.shape)\n",
    "print(\"y_test  :\", y_test.shape)\n",
    "\n",
    "# Scale train and test sets with StandardScaler <-- not normally required for a Random Forest\n",
    "X_train_std = StandardScaler().fit_transform(X_train)\n",
    "X_test_std = StandardScaler().fit_transform(X_test)"
   ]
  },
  {
   "cell_type": "code",
   "execution_count": 37,
   "metadata": {
    "colab": {
     "base_uri": "https://localhost:8080/"
    },
    "id": "LC2lu1_6OdGw",
    "outputId": "0891addb-e3bb-4659-ef0b-26948faa4f10"
   },
   "outputs": [
    {
     "name": "stdout",
     "output_type": "stream",
     "text": [
      "Random forest score: 0.9994\n"
     ]
    }
   ],
   "source": [
    "forest = RandomForestClassifier()\n",
    "\n",
    "forest.fit(X_train, y_train)\n",
    "#forest.fit(X_train_std, y_train) # <-- std\n",
    "\n",
    "forest_score = forest.score(X_test, y_test)\n",
    "#forest_score = forest.score(X_test_std, y_test) # <-- std\n",
    "\n",
    "print('Random forest score: {:.4f}'.format(forest_score)) # Random forest score: 0.9994 --> 0.9707 with std"
   ]
  },
  {
   "cell_type": "markdown",
   "metadata": {
    "id": "C9GUJvxrPgNy"
   },
   "source": [
    "Here, we achieved an excellent score of 0.9994. We could do this using all 119 features, which is much more than we might need. All Sklearn estimators have special attributes that show feature weights, thanks to the <i>feature_importances_</i> attribute. Let's see the computed coefficients for our Random Forest Classifier model:"
   ]
  },
  {
   "cell_type": "code",
   "execution_count": 38,
   "metadata": {
    "colab": {
     "base_uri": "https://localhost:8080/",
     "height": 423
    },
    "id": "3Vb3md5mP2eI",
    "outputId": "9e2079fa-bcb8-4747-8f1e-21464f0cca0c"
   },
   "outputs": [
    {
     "data": {
      "text/html": [
       "<div>\n",
       "<style scoped>\n",
       "    .dataframe tbody tr th:only-of-type {\n",
       "        vertical-align: middle;\n",
       "    }\n",
       "\n",
       "    .dataframe tbody tr th {\n",
       "        vertical-align: top;\n",
       "    }\n",
       "\n",
       "    .dataframe thead th {\n",
       "        text-align: right;\n",
       "    }\n",
       "</style>\n",
       "<table border=\"1\" class=\"dataframe\">\n",
       "  <thead>\n",
       "    <tr style=\"text-align: right;\">\n",
       "      <th></th>\n",
       "      <th>feature</th>\n",
       "      <th>weight</th>\n",
       "    </tr>\n",
       "  </thead>\n",
       "  <tbody>\n",
       "    <tr>\n",
       "      <th>0</th>\n",
       "      <td>service_http_8001</td>\n",
       "      <td>0.000000e+00</td>\n",
       "    </tr>\n",
       "    <tr>\n",
       "      <th>1</th>\n",
       "      <td>service_http_2784</td>\n",
       "      <td>0.000000e+00</td>\n",
       "    </tr>\n",
       "    <tr>\n",
       "      <th>2</th>\n",
       "      <td>service_aol</td>\n",
       "      <td>6.459507e-13</td>\n",
       "    </tr>\n",
       "    <tr>\n",
       "      <th>3</th>\n",
       "      <td>service_vmnet</td>\n",
       "      <td>1.379912e-07</td>\n",
       "    </tr>\n",
       "    <tr>\n",
       "      <th>4</th>\n",
       "      <td>service_netbios_dgm</td>\n",
       "      <td>1.567478e-07</td>\n",
       "    </tr>\n",
       "    <tr>\n",
       "      <th>...</th>\n",
       "      <td>...</td>\n",
       "      <td>...</td>\n",
       "    </tr>\n",
       "    <tr>\n",
       "      <th>114</th>\n",
       "      <td>flag_SF</td>\n",
       "      <td>4.988358e-02</td>\n",
       "    </tr>\n",
       "    <tr>\n",
       "      <th>115</th>\n",
       "      <td>same_srv_rate</td>\n",
       "      <td>6.272203e-02</td>\n",
       "    </tr>\n",
       "    <tr>\n",
       "      <th>116</th>\n",
       "      <td>diff_srv_rate</td>\n",
       "      <td>6.660119e-02</td>\n",
       "    </tr>\n",
       "    <tr>\n",
       "      <th>117</th>\n",
       "      <td>dst_bytes</td>\n",
       "      <td>7.140417e-02</td>\n",
       "    </tr>\n",
       "    <tr>\n",
       "      <th>118</th>\n",
       "      <td>src_bytes</td>\n",
       "      <td>8.755812e-02</td>\n",
       "    </tr>\n",
       "  </tbody>\n",
       "</table>\n",
       "<p>119 rows × 2 columns</p>\n",
       "</div>"
      ],
      "text/plain": [
       "                 feature        weight\n",
       "0      service_http_8001  0.000000e+00\n",
       "1      service_http_2784  0.000000e+00\n",
       "2            service_aol  6.459507e-13\n",
       "3          service_vmnet  1.379912e-07\n",
       "4    service_netbios_dgm  1.567478e-07\n",
       "..                   ...           ...\n",
       "114              flag_SF  4.988358e-02\n",
       "115        same_srv_rate  6.272203e-02\n",
       "116        diff_srv_rate  6.660119e-02\n",
       "117            dst_bytes  7.140417e-02\n",
       "118            src_bytes  8.755812e-02\n",
       "\n",
       "[119 rows x 2 columns]"
      ]
     },
     "execution_count": 38,
     "metadata": {},
     "output_type": "execute_result"
    }
   ],
   "source": [
    "features_importances = pd.DataFrame(\n",
    "    zip(X_train.columns, abs(forest.feature_importances_)),\n",
    "    columns=[\"feature\", \"weight\"],\n",
    ").sort_values(\"weight\").reset_index(drop=True)\n",
    "\n",
    "features_importances"
   ]
  },
  {
   "cell_type": "markdown",
   "metadata": {
    "id": "iK-h0IsgQjm2"
   },
   "source": [
    "Since all weights are multiplied by the values of features, such small weights contribute very little to the overall predictions. Looking at the above weights, we can see that many weights are close to 0. We will start by deleting them in order to reduce model complexity."
   ]
  },
  {
   "cell_type": "markdown",
   "metadata": {
    "id": "l_NUVR5NkZWW"
   },
   "source": [
    "### $\\rm{2)}$ Filter method : Chi squared test"
   ]
  },
  {
   "cell_type": "markdown",
   "metadata": {
    "id": "VoAgtbcbtRaC"
   },
   "source": [
    "The Chi-squared test is used in statistics to test the independence of two events. More specifically in feature selection we will use it to test whether the occurrence of a specific feature and the target are independent or not.\n",
    "\n",
    "The purpose is to calculate Chi-square between each feature and the target, in order to select the desired number of features with best Chi-square scores or the lowest p-values, because it implies that the target column is dependent on the feature column."
   ]
  },
  {
   "cell_type": "code",
   "execution_count": 39,
   "metadata": {
    "colab": {
     "base_uri": "https://localhost:8080/"
    },
    "id": "8d0ab5CTkl-y",
    "outputId": "9e610b42-cadd-44c8-dc9b-8e6b70fc012a"
   },
   "outputs": [
    {
     "name": "stdout",
     "output_type": "stream",
     "text": [
      "Random forest score with chi2: 0.9994\n"
     ]
    }
   ],
   "source": [
    "# Create and fit selector\n",
    "selector = SelectKBest(chi2, k=39) # k is the number of features we want to keep\n",
    "selector.fit_transform(data, labels)\n",
    "\n",
    "# Get columns to keep and create new dataframe with those only\n",
    "cols = selector.get_support(indices=True)\n",
    "data_chi2 = data.iloc[:,cols]\n",
    "\n",
    "# Dataset distribution \n",
    "X_train_chi2, X_test_chi2, y_train_chi2, y_test_chi2 = train_test_split(data_chi2, labels, \n",
    "                                                       test_size=0.33, \n",
    "                                                       random_state=42,\n",
    "                                                       stratify=labels)\n",
    "# Init, fit, score\n",
    "forest = RandomForestClassifier()\n",
    "forest.fit(X_train_chi2, y_train_chi2)\n",
    "forest_score = forest.score(X_test_chi2, y_test_chi2)\n",
    "\n",
    "# recap\n",
    "print('Random forest score with chi2: {:.4f}'.format(forest_score))\n",
    "\n",
    "# n features kept  : |    5    |    10    |   20    |   35    |   37    |   39    |   40    |   80    |\n",
    "# score with chi2  : | 0.9894  |  0.9944  | 0.9978  | 0.9992  | 0.9993  | 0.9994  | 0.9994  | 0.9994  |  "
   ]
  },
  {
   "cell_type": "markdown",
   "metadata": {
    "id": "em0ujqGdfdKG"
   },
   "source": [
    "We can see that from 39 features, the best score is reached and doesn't change anymore. It is interesting to know that we can delete 80 features whitout loosing accuracy.\n",
    "\n",
    "We can have a look on the 39 most important features :"
   ]
  },
  {
   "cell_type": "code",
   "execution_count": 40,
   "metadata": {
    "colab": {
     "base_uri": "https://localhost:8080/"
    },
    "id": "ja6WDvkprOAJ",
    "outputId": "6b274106-4ffc-4c50-d86c-3dbd6264d8bd"
   },
   "outputs": [
    {
     "data": {
      "text/plain": [
       "array(['duration', 'src_bytes', 'dst_bytes', 'hot', 'logged_in',\n",
       "       'num_compromised', 'root_shell', 'num_root', 'is_guest_login',\n",
       "       'count', 'srv_count', 'serror_rate', 'srv_serror_rate',\n",
       "       'rerror_rate', 'srv_rerror_rate', 'same_srv_rate', 'diff_srv_rate',\n",
       "       'srv_diff_host_rate', 'dst_host_count', 'dst_host_srv_count',\n",
       "       'dst_host_same_srv_rate', 'dst_host_diff_srv_rate',\n",
       "       'dst_host_same_src_port_rate', 'dst_host_srv_diff_host_rate',\n",
       "       'dst_host_serror_rate', 'dst_host_srv_serror_rate',\n",
       "       'dst_host_rerror_rate', 'dst_host_srv_rerror_rate', 'last_flag',\n",
       "       'protocol_type_icmp', 'service_domain_u', 'service_eco_i',\n",
       "       'service_ftp', 'service_ftp_data', 'service_http',\n",
       "       'service_private', 'flag_RSTR', 'flag_S0', 'flag_SF'], dtype=object)"
      ]
     },
     "execution_count": 40,
     "metadata": {},
     "output_type": "execute_result"
    }
   ],
   "source": [
    "data_chi2.columns.values"
   ]
  },
  {
   "cell_type": "markdown",
   "metadata": {
    "id": "0Xs5ewBqgVAB"
   },
   "source": [
    "In order to reuse this dataset later, we will stock the result into a *.pickle* file"
   ]
  },
  {
   "cell_type": "code",
   "execution_count": 41,
   "metadata": {
    "id": "8M_YN4owrwPQ"
   },
   "outputs": [],
   "source": [
    "dataset_chi2 = (data_chi2, labels)\n",
    "\n",
    "with open('./data/dataset_chi2.pickle', 'wb') as p:\n",
    "    pickle.dump(dataset_chi2, p)"
   ]
  },
  {
   "cell_type": "markdown",
   "metadata": {
    "id": "g72Jay7f47vL"
   },
   "source": [
    "### $\\rm{3)}$ Wrapper method: Recursive Feature Elimination (RFE)"
   ]
  },
  {
   "cell_type": "markdown",
   "metadata": {
    "id": "x8dKKalxNmfM"
   },
   "source": [
    "RFE is a transformer estimator, which is a popular algorithm due to its easy configurable nature and robust performance. \n",
    "RFE reduces model complexity by removing features one by one until the optimal number of features is left.\n",
    "\n",
    "It is one of the most popular feature selection algorithms due to its flexibility and ease of use. The algorithm can wrap around any model, and it produces the best possible set of features that gives the highest performance."
   ]
  },
  {
   "cell_type": "code",
   "execution_count": 42,
   "metadata": {
    "colab": {
     "base_uri": "https://localhost:8080/"
    },
    "id": "RWib-FziUAbh",
    "outputId": "7ff3565b-674f-4c0e-d869-bd18364019e0"
   },
   "outputs": [
    {
     "name": "stdout",
     "output_type": "stream",
     "text": [
      "Random forest score with rfe: 0.9994\n"
     ]
    }
   ],
   "source": [
    "# Init the transformer\n",
    "rfe = RFE(estimator=RandomForestClassifier(), n_features_to_select=80, step=10)\n",
    "\n",
    "# Fit to the training data\n",
    "rfe.fit(X_train, y_train)\n",
    "\n",
    "# Init, fit, score\n",
    "forest = RandomForestClassifier()\n",
    "forest.fit(rfe.transform(X_train), y_train)\n",
    "forest_score = forest.score(rfe.transform(X_test), y_test)\n",
    "\n",
    "# Recap\n",
    "print('Random forest score with rfe: {:.4f}'.format(forest_score))\n",
    "\n",
    "# n features kept  : |    5    |    10    |   20    |   40    |   80    |\n",
    "# score with rfe   : | 0.9924  |  0.9985  | 0.9991  | 0.9994  | 0.9994  | "
   ]
  },
  {
   "cell_type": "markdown",
   "metadata": {
    "id": "dVw3uRvEaa7A"
   },
   "source": [
    "Here, we can see that we tried different values corresponding on the number of features we want to keep for our model. \n",
    "\n",
    "We can notice that by keeping only 10 features or less, the score becomes less efficient. On the other hand, we can see that from 40 features the score reaches a ceiling and does not exceed 0.9994, which is the same result as when we work with all of the 119 features.\n",
    "\n",
    "Now, we have to choose the number of relevant features based on their performance. To achieve this, we will use a RFECV class which implements Recursive Feature Elimination with Cross-Validation and automatically finds the optimal number of features to keep:"
   ]
  },
  {
   "cell_type": "code",
   "execution_count": 43,
   "metadata": {
    "colab": {
     "base_uri": "https://localhost:8080/"
    },
    "id": "rXNtz-yWdUhz",
    "outputId": "5d511a7d-cff6-4b10-8578-66faf9817ce1"
   },
   "outputs": [
    {
     "name": "stdout",
     "output_type": "stream",
     "text": [
      "Random forest score with rfecv: 0.9994\n",
      "Elapsed time: 14min 49s\n"
     ]
    }
   ],
   "source": [
    "start = time.time()\n",
    "\n",
    "# Init the transformer\n",
    "rfecv = RFECV(\n",
    "    estimator=RandomForestClassifier(),\n",
    "    min_features_to_select=10,\n",
    "    step=10,\n",
    "    cv=5,\n",
    ")\n",
    "\n",
    "# Fit to the training data\n",
    "rfecv.fit(X_train, y_train)\n",
    "\n",
    "# Init, fit, score\n",
    "forest_cv = RandomForestClassifier()\n",
    "forest_cv.fit(rfecv.transform(X_train), y_train)\n",
    "forest_cv_score = forest_cv.score(rfecv.transform(X_test), y_test)\n",
    "\n",
    "# recap\n",
    "seconds = round(time.time() - start)\n",
    "minutes = seconds // 60\n",
    "seconds %= 60\n",
    "print('Random forest score with rfecv: {:.4f}'.format(forest_cv_score)) # Score: 0.9994\n",
    "print('Elapsed time: {}min {}s'.format(minutes, seconds))               # Elapsed time: 14min49s"
   ]
  },
  {
   "cell_type": "markdown",
   "metadata": {
    "id": "zwmxCnBxXLUC"
   },
   "source": [
    "After fitting the estimator, it has a <i>support_</i> attribute that gives a boolean mask with <i>False</i> values for discarded features. We can use it to subset our data:"
   ]
  },
  {
   "cell_type": "code",
   "execution_count": 44,
   "metadata": {
    "colab": {
     "base_uri": "https://localhost:8080/"
    },
    "id": "PnAbL2NAd3Wn",
    "outputId": "1dcd39f2-1e61-43a2-af14-7e014f984908"
   },
   "outputs": [
    {
     "name": "stdout",
     "output_type": "stream",
     "text": [
      "(49,)\n",
      "Index(['duration', 'src_bytes', 'dst_bytes', 'wrong_fragment', 'hot',\n",
      "       'logged_in', 'num_compromised', 'is_guest_login', 'count', 'srv_count',\n",
      "       'serror_rate', 'srv_serror_rate', 'rerror_rate', 'srv_rerror_rate',\n",
      "       'same_srv_rate', 'diff_srv_rate', 'srv_diff_host_rate',\n",
      "       'dst_host_count', 'dst_host_srv_count', 'dst_host_same_srv_rate',\n",
      "       'dst_host_diff_srv_rate', 'dst_host_same_src_port_rate',\n",
      "       'dst_host_srv_diff_host_rate', 'dst_host_serror_rate',\n",
      "       'dst_host_srv_serror_rate', 'dst_host_rerror_rate',\n",
      "       'dst_host_srv_rerror_rate', 'last_flag', 'protocol_type_icmp',\n",
      "       'protocol_type_tcp', 'protocol_type_udp', 'service_domain_u',\n",
      "       'service_eco_i', 'service_ecr_i', 'service_finger', 'service_ftp',\n",
      "       'service_ftp_data', 'service_http', 'service_other', 'service_private',\n",
      "       'service_smtp', 'service_telnet', 'service_urp_i', 'flag_REJ',\n",
      "       'flag_RSTO', 'flag_RSTR', 'flag_S0', 'flag_SF', 'flag_SH'],\n",
      "      dtype='object')\n"
     ]
    }
   ],
   "source": [
    "print(data.columns[rfecv.support_].shape)\n",
    "print(data.columns[rfecv.support_])"
   ]
  },
  {
   "cell_type": "markdown",
   "metadata": {
    "id": "UVq33zBac8zx"
   },
   "source": [
    "We can conclude that thanks to the RFECV class, we can keep only 49 features out of 119 and that even after dropping 70 features, we still got an impressive score of 0.9994, which is the same score as the base performance with all the features.\n",
    "\n",
    "We can now keep this new dataframe with the target features into a dataset, in order to use it for later: "
   ]
  },
  {
   "cell_type": "code",
   "execution_count": 45,
   "metadata": {
    "id": "Ztrjp9LW86Mj"
   },
   "outputs": [],
   "source": [
    "data_rfe = data.loc[:, rfecv.support_]\n",
    "dataset_rfe = (data_rfe, labels)\n",
    "\n",
    "with open('./data/dataset_rfe.pickle', 'wb') as p:\n",
    "    pickle.dump(dataset_rfe, p) "
   ]
  },
  {
   "cell_type": "markdown",
   "metadata": {
    "id": "HO-foyvTXsj8"
   },
   "source": [
    "# $\\rm{III}$<b> - Model selection</b>"
   ]
  },
  {
   "cell_type": "markdown",
   "metadata": {
    "id": "HXkXfj4NIs9T"
   },
   "source": [
    "To easily manage the dataset we want to work with for our models, we will implement a function to recover the desired dataset called *dataset_recovering*, and another called *dataset_distribution* that will allows to: \n",
    "- use *recover_dataset()*;\n",
    "- truncate or not the dataset for a desired *ratio*;\n",
    "- apply a dataset distribution with *train_test_split()*;\n",
    "- apply or not a standardization on train and test sets with *StandardScaler()*;"
   ]
  },
  {
   "cell_type": "code",
   "execution_count": 46,
   "metadata": {
    "id": "RBmCx579zZOH"
   },
   "outputs": [],
   "source": [
    "def dataset_recovering(dataset_name):\n",
    "    if dataset_name in [\"normal\", \"chi2\", \"rfe\"]:\n",
    "        with open(projectPath+'data/dataset_'+dataset_name+'.pickle', 'rb') as fp :\n",
    "            dataset = pickle.load(fp) \n",
    "        return dataset \n",
    "    else:\n",
    "        print(\"ERROR: Please specify a conforming value for \\'dataset_name\\': \\\"normal\\\", \\\"chi2\\\", \\\"rfe\\\"\")\n",
    "        return (None,)*2"
   ]
  },
  {
   "cell_type": "code",
   "execution_count": 47,
   "metadata": {
    "id": "K2ad2lfRya_S"
   },
   "outputs": [],
   "source": [
    "def dataset_distribution(dataset_name, SVM_case=False, scaled=False, truncated=False, ratio=0.2):\n",
    "\n",
    "    # 1. Dataset recovering\n",
    "    data, labels = dataset_recovering(dataset_name)\n",
    "    if data is None or labels is None:\n",
    "        return (None,)*6\n",
    "\n",
    "    # 2. Truncation \n",
    "    if truncated is True :\n",
    "        data, labels = truncation(data, labels, ratio=ratio)\n",
    "    elif truncated is not False:\n",
    "        print(\"ERROR: Please specify a conforming value for \\'truncated\\': True, False\")\n",
    "        return (None,)*6\n",
    "\n",
    "    # 3. Train test split \n",
    "    if SVM_case is False :\n",
    "        X_train, X_test, y_train, y_test = train_test_split(data, labels, \n",
    "                                                            test_size=0.33, \n",
    "                                                            random_state=42,\n",
    "                                                            stratify=labels)\n",
    "    elif SVM_case is True :\n",
    "        X_train, X_test, y_train, y_test = SVM_train_test_split(data, labels, \n",
    "                                                                test_size=0.33, \n",
    "                                                                random_state=42)\n",
    "    else :\n",
    "        print(\"ERROR: Please specify a conforming value for \\'SVM_case\\': True, False\")\n",
    "        return (None,)*6\n",
    "\n",
    "    # 4. Standardization\n",
    "    if scaled is True :\n",
    "        X_train = StandardScaler().fit_transform(X_train)\n",
    "        X_test  = StandardScaler().fit_transform(X_test)\n",
    "    elif scaled is not False:\n",
    "        print(\"ERROR: Please specify a conforming value for \\'scaled\\': True, False\")\n",
    "        return (None,)*6\n",
    "\n",
    "    return( data, labels, X_train, X_test, y_train, y_test )"
   ]
  },
  {
   "cell_type": "markdown",
   "metadata": {
    "id": "NFzvPG38wcqm"
   },
   "source": [
    "## $\\rm{1)}$ Support-Vector Machine (SVM)"
   ]
  },
  {
   "cell_type": "markdown",
   "metadata": {
    "id": "PWHqsAjGXpHU"
   },
   "source": [
    "\n",
    "A Support Vector Machine (SVM) is a supervised machine learning algorithm that can be used in both classification and regression problems.\n",
    "\n",
    "In its most simple type, SVM doesn’t support multiclass classification natively. It supports binary classification and separating data points into two classes. For multiclass classification, the same principle is utilized after breaking down the multiclassification problem into multiple binary classification problems."
   ]
  },
  {
   "cell_type": "markdown",
   "metadata": {
    "id": "zN2GSsAb6Cr9"
   },
   "source": [
    "To avoid code repetition due to the separation of the multiclassification problem into several binary classification problems, we implemented three functions :\n",
    "\n",
    "- *SVM_train_test_split()* which uses *train_test_split()* for each binary classification problem;\n",
    "- *SVM_fit()* which instantiates a model for each binary classification problem, fit it with its data generated by the previous function, then return all the fitted models;\n",
    "- *SVM_predict()* which makes a prediction for each binary classification problem, then makes a global prediction. We can also decide to calculate the score of the prediction with *y_true*; "
   ]
  },
  {
   "cell_type": "code",
   "execution_count": 48,
   "metadata": {
    "id": "S9LlETD5oZau"
   },
   "outputs": [],
   "source": [
    "def SVM_train_test_split(data, labels, test_size=0.33, random_state=42):\n",
    "    n = labels.shape[1]\n",
    "    y_train_lst = [None]*n  # <-- [DoS, Probe, R2L, U2R, noAttack] \n",
    "    y_test_lst  = [None]*n  # <-- [DoS, Probe, R2L, U2R, noAttack]\n",
    "\n",
    "    # 1. Initialization to treat each attack separately\n",
    "    attacks_lst = []\n",
    "    for i in range (n):\n",
    "        attacks_lst.append(labels.columns[i]) # <-- [DoS, Probe, R2L, U2R, noAttack]\n",
    "\n",
    "    # 2. Train test split\n",
    "    for i in range(n):\n",
    "        X_train, X_test, y_train_lst[i], y_test_lst[i] = train_test_split(data, labels[attacks_lst[i]], \n",
    "                                                                          test_size=test_size, \n",
    "                                                                          random_state=random_state,\n",
    "                                                                          stratify=labels)\n",
    "    return X_train, X_test, y_train_lst, y_test_lst"
   ]
  },
  {
   "cell_type": "code",
   "execution_count": 49,
   "metadata": {
    "id": "llDo8EtAocXt"
   },
   "outputs": [],
   "source": [
    "def SVM_fit(data, labels, X_train, X_test, y_train_lst, y_test_lst, C, max_iter):\n",
    "    n = labels.shape[1]\n",
    "\n",
    "    # 1. Initialization of the models\n",
    "    model = [LinearSVC(C=C, max_iter=max_iter) for _ in range(n)]\n",
    "\n",
    "    # 2. Fit\n",
    "    for i in range(n):\n",
    "        model[i].fit(X_train, y_train_lst[i])\n",
    "\n",
    "    return model"
   ]
  },
  {
   "cell_type": "code",
   "execution_count": 50,
   "metadata": {
    "id": "oFPxulxhsf8m"
   },
   "outputs": [],
   "source": [
    "def SVM_predict(model, X_test, computeScore=False, y_true=None):\n",
    "    n = len(model)\n",
    "    predictions_lst = []\n",
    "\n",
    "    # 1. Prediction for each binary classification problem\n",
    "    attacks_lst = []\n",
    "    for i in range (n):\n",
    "        attacks_lst.append(labels.columns[i])\n",
    "        predictions_lst.append(model[i].predict(X_test))  \n",
    "\n",
    "    # 2. Global prediction\n",
    "    predictions = pd.DataFrame(np.array(predictions_lst).T)\n",
    "    predictions.columns = attacks_lst\n",
    "\n",
    "    # 3. Compute the score if requested\n",
    "    if computeScore is True and y_true is not None:\n",
    "        y_true = pd.DataFrame(np.array(y_true).T)\n",
    "        y_true.columns = attacks_lst\n",
    "\n",
    "        n_errors  = y_true.compare(predictions).shape[0]\n",
    "        n_samples = y_true.shape[0]\n",
    "        score = np.round( (n_samples-n_errors)/n_samples, 4 )\n",
    "\n",
    "        return predictions, score\n",
    "\n",
    "    elif computeScore is False:\n",
    "        return predictions\n",
    "\n",
    "    else :\n",
    "        print(\"ERROR: Please specify conforming values for :\\n\\t - \\'computeScore\\': True, False \\n\\t - \\'y_true\\'\")"
   ]
  },
  {
   "cell_type": "markdown",
   "metadata": {
    "id": "D2fG7JfBXshu"
   },
   "source": [
    "We can then stock our variables for the desired dataset thanks to the function *dataset_distribution()* for our model as it follows:"
   ]
  },
  {
   "cell_type": "code",
   "execution_count": 51,
   "metadata": {
    "id": "Ll9Q-9HOeS3G"
   },
   "outputs": [],
   "source": [
    "# Scaled\n",
    "#data, labels, X_train, X_test, y_train, y_test = dataset_distribution(\"normal\", SVM_case=True, scaled=True)\n",
    "#data, labels, X_train, X_test, y_train, y_test = dataset_distribution(\"chi2\"  , SVM_case=True, scaled=True)\n",
    "#data, labels, X_train, X_test, y_train, y_test = dataset_distribution(\"rfe\"   , SVM_case=True, scaled=True)\n",
    "#max_iter = 1e3\n",
    "\n",
    "# Truncated and scaled\n",
    "#data, labels, X_train, X_test, y_train, y_test = dataset_distribution(\"normal\", SVM_case=True, scaled=True, truncated=True)\n",
    "#data, labels, X_train, X_test, y_train, y_test = dataset_distribution(\"chi2\"  , SVM_case=True, scaled=True, truncated=True)\n",
    "data, labels, X_train, X_test, y_train, y_test = dataset_distribution(\"rfe\"   , SVM_case=True, scaled=True, truncated=True)\n",
    "max_iter = 1e6"
   ]
  },
  {
   "cell_type": "markdown",
   "metadata": {
    "id": "5sA_8HEF0zAf"
   },
   "source": [
    "Once that we recovered the variables, we can try different values for each hyper-parameter on each of our datasets, by fitting the model and do some predictions :"
   ]
  },
  {
   "cell_type": "code",
   "execution_count": 52,
   "metadata": {
    "id": "X5O3d4UxwxW8"
   },
   "outputs": [],
   "source": [
    "start = time.time()\n",
    "\n",
    "# fit\n",
    "SVM_model = SVM_fit(data, labels, X_train, X_test, y_train, y_test, C=0.4, max_iter=max_iter)\n",
    "\n",
    "# predict and score\n",
    "SVM_predictions, SVM_score = SVM_predict(SVM_model, X_test, computeScore=True, y_true=y_test)\n",
    "\n",
    "seconds = round(time.time() - start)"
   ]
  },
  {
   "cell_type": "markdown",
   "metadata": {
    "id": "ANf2NRGI12BE"
   },
   "source": [
    "We can now have a look on the predictions made by the SVM model, as well as the different scores and computation times obtained :"
   ]
  },
  {
   "cell_type": "code",
   "execution_count": 53,
   "metadata": {
    "colab": {
     "base_uri": "https://localhost:8080/",
     "height": 206
    },
    "id": "fI8kZmHqKTBJ",
    "outputId": "6ef7ab47-512c-4e43-9adb-e06486e89611"
   },
   "outputs": [
    {
     "data": {
      "text/html": [
       "<div>\n",
       "<style scoped>\n",
       "    .dataframe tbody tr th:only-of-type {\n",
       "        vertical-align: middle;\n",
       "    }\n",
       "\n",
       "    .dataframe tbody tr th {\n",
       "        vertical-align: top;\n",
       "    }\n",
       "\n",
       "    .dataframe thead th {\n",
       "        text-align: right;\n",
       "    }\n",
       "</style>\n",
       "<table border=\"1\" class=\"dataframe\">\n",
       "  <thead>\n",
       "    <tr style=\"text-align: right;\">\n",
       "      <th></th>\n",
       "      <th>attack_DoS</th>\n",
       "      <th>attack_Probe</th>\n",
       "      <th>attack_R2L</th>\n",
       "      <th>attack_U2R</th>\n",
       "      <th>attack_noAttack</th>\n",
       "    </tr>\n",
       "  </thead>\n",
       "  <tbody>\n",
       "    <tr>\n",
       "      <th>0</th>\n",
       "      <td>0.0</td>\n",
       "      <td>0.0</td>\n",
       "      <td>0.0</td>\n",
       "      <td>0.0</td>\n",
       "      <td>1.0</td>\n",
       "    </tr>\n",
       "    <tr>\n",
       "      <th>1</th>\n",
       "      <td>1.0</td>\n",
       "      <td>0.0</td>\n",
       "      <td>0.0</td>\n",
       "      <td>0.0</td>\n",
       "      <td>0.0</td>\n",
       "    </tr>\n",
       "    <tr>\n",
       "      <th>2</th>\n",
       "      <td>0.0</td>\n",
       "      <td>1.0</td>\n",
       "      <td>0.0</td>\n",
       "      <td>0.0</td>\n",
       "      <td>0.0</td>\n",
       "    </tr>\n",
       "    <tr>\n",
       "      <th>3</th>\n",
       "      <td>0.0</td>\n",
       "      <td>0.0</td>\n",
       "      <td>0.0</td>\n",
       "      <td>0.0</td>\n",
       "      <td>1.0</td>\n",
       "    </tr>\n",
       "    <tr>\n",
       "      <th>4</th>\n",
       "      <td>1.0</td>\n",
       "      <td>0.0</td>\n",
       "      <td>0.0</td>\n",
       "      <td>0.0</td>\n",
       "      <td>0.0</td>\n",
       "    </tr>\n",
       "  </tbody>\n",
       "</table>\n",
       "</div>"
      ],
      "text/plain": [
       "   attack_DoS  attack_Probe  attack_R2L  attack_U2R  attack_noAttack\n",
       "0         0.0           0.0         0.0         0.0              1.0\n",
       "1         1.0           0.0         0.0         0.0              0.0\n",
       "2         0.0           1.0         0.0         0.0              0.0\n",
       "3         0.0           0.0         0.0         0.0              1.0\n",
       "4         1.0           0.0         0.0         0.0              0.0"
      ]
     },
     "execution_count": 53,
     "metadata": {},
     "output_type": "execute_result"
    }
   ],
   "source": [
    "SVM_predictions.head()"
   ]
  },
  {
   "cell_type": "code",
   "execution_count": 54,
   "metadata": {
    "colab": {
     "base_uri": "https://localhost:8080/"
    },
    "id": "wHAdH8X2TevE",
    "outputId": "0b583894-f4fc-4db3-a4be-fe34aa9776a4"
   },
   "outputs": [
    {
     "name": "stdout",
     "output_type": "stream",
     "text": [
      "SVM score: 0.9768\n",
      "Elapsed time: 0min 8s\n"
     ]
    }
   ],
   "source": [
    "minutes = seconds // 60\n",
    "seconds %= 60\n",
    "print('SVM score: {:.4f}'.format(SVM_score))\n",
    "print('Elapsed time: {}min {}s'.format(minutes, seconds))  \n",
    "\n",
    "# Scaled\n",
    "# dataset used      : |   normal   |    chi2    |     rfe    | \n",
    "# best hyper-params : | {0.4, 1e3} | {0.4, 1e3} | {0.4, 1e3} | <-- format: {'C', 'max_iter'}\n",
    "# score on test set : |   0.9839   |   0.9692   |   0.9806   |    \n",
    "# computation time  : |   1min09s  |     38s    |     38s    |\n",
    "\n",
    "# Truncated and scaled\n",
    "# dataset used      : |   normal   |    chi2    |     rfe    | \n",
    "# best hyper-params : | {0.4, 1e6} | {0.4, 1e6} | {0.4, 1e6} | <-- format: {'C', 'max_iter'}\n",
    "# score on test set : |   0.9774   |   0.9639   |   0.9773   |    \n",
    "# computation time  : |     28s    |     8s     |     7s     |"
   ]
  },
  {
   "cell_type": "markdown",
   "metadata": {
    "id": "JNrbgTaH20Wy"
   },
   "source": [
    "As we can see, by working with only the 49 features chosen thanks to RFE algorithm, we are able to save a lot of time without losing much precision (0.9838 to 0.9806 and 1min09s to 38s). \n",
    "\n",
    "Moreover, with the truncated dataset_rfe (here we kept 20% of the dataset), we reduced the computation by almost 5, while keeping a great accuracy score (0.9773)\n",
    "\n",
    "\n",
    " For the SVM, we will then keep the dataset_rfe because we have a better score for a shorter computation time.\n",
    "\n",
    "The question is now to know the optimal percentage of the dataset to keep an accuracy that remains high :"
   ]
  },
  {
   "cell_type": "code",
   "execution_count": 55,
   "metadata": {
    "id": "6GNZLC3AZjQC"
   },
   "outputs": [],
   "source": [
    "warnings.filterwarnings(\"ignore\")\n",
    "ratio_range= [0.025, 0.05, 0.075, 0.1, 0.25, 0.5, 0.75, 1]\n",
    "times = []\n",
    "test_acc = []\n",
    "for ratio in ratio_range:\n",
    "    data, labels, X_train, X_test, y_train, y_test = dataset_distribution(\"rfe\", SVM_case=True, scaled=True, truncated=True, ratio=ratio)\n",
    "    start = time.time()\n",
    "\n",
    "    model = SVM_fit(data, labels, X_train, X_test, y_train, y_test, C=0.4, max_iter=1e3)\n",
    "    _, SVM_score = SVM_predict(model, X_test, computeScore=True, y_true=y_test)\n",
    "\n",
    "    seconds = round(time.time() - start)\n",
    "    test_acc.append(SVM_score)\n",
    "    times.append(seconds)"
   ]
  },
  {
   "cell_type": "code",
   "execution_count": 56,
   "metadata": {
    "colab": {
     "base_uri": "https://localhost:8080/",
     "height": 334
    },
    "id": "NxDdfnpAZoEf",
    "outputId": "29c48961-97d9-4583-9c73-efb93c53afb9"
   },
   "outputs": [
    {
     "data": {
      "image/png": "[encoded data removed]",
      "text/plain": [
       "<Figure size 1500x500 with 2 Axes>"
      ]
     },
     "metadata": {},
     "output_type": "display_data"
    }
   ],
   "source": [
    "plt.figure(figsize=(15,5))\n",
    "\n",
    "#plot 1:\n",
    "plt.subplot(1, 2, 1)\n",
    "plt.plot( np.array(ratio_range)*100 , np.array(test_acc)*100)\n",
    "plt.xlabel(\"Dataset ratio (%)\")\n",
    "plt.ylabel(\"Accuracy (%)\")\n",
    "\n",
    "#plot 2:\n",
    "plt.subplot(1, 2, 2)\n",
    "plt.plot( np.array(ratio_range)*100 , np.array(times) )\n",
    "plt.xlabel(\"Dataset ratio (%)\")\n",
    "plt.ylabel(\"Calculation time (s)\")\n",
    "\n",
    "plt.show()"
   ]
  },
  {
   "cell_type": "markdown",
   "metadata": {
    "id": "gvPSTpZw4eXT"
   },
   "source": [
    "Thanks to the plots, we can conclude for a SVM that it is better to work with only 50% of the dataset, because it allows us to keep a good accuracy while having a computation time that is lower than 10s.\n",
    "\n",
    "However, one of the biggest drawbacks of this model is that we could have several attacks predicted for the same event, or on the contrary no prediction made due to the fact that we group five independent binary classification problems into one multiclassification problem."
   ]
  },
  {
   "cell_type": "markdown",
   "metadata": {
    "id": "Wn05inYJwaD1"
   },
   "source": [
    "## $\\rm{2)}$ K-Nearest Neighbors (KNN)"
   ]
  },
  {
   "cell_type": "markdown",
   "metadata": {
    "id": "ipOAfeuAOSR4"
   },
   "source": [
    "<b> General explanations of the KNN here </b>\n",
    "\n",
    "K-Nearest Neighbors (KNN) is a simple, non-parametric method for multi-class classification. In a KNN classification, an input data point is classified by a majority vote of its K nearest neighbors. The input point is assigned to the class that has the majority of the K nearest neighbors.\n",
    "\n",
    "However, KNN can be computationally expensive and sensitive to the choice of K and distance metric. To perform a KNN classification, we need to specify the number of nearest neighbors to consider (K) and the distance metric to use. Then, we can classify new data points by finding the K nearest neighbors and assigning the new point to the class with the majority of the neighbors."
   ]
  },
  {
   "cell_type": "markdown",
   "metadata": {
    "id": "_u0rY_yPOQsV"
   },
   "source": [
    "First, we will stock our variables for the desired dataset thanks to the function *dataset_distribution()* for our model as it follows:"
   ]
  },
  {
   "cell_type": "code",
   "execution_count": 57,
   "metadata": {
    "id": "Rw71HZh7w6Pg"
   },
   "outputs": [],
   "source": [
    "#Raw\n",
    "#data, labels, X_train, X_test, y_train, y_test  = dataset_distribution(\"normal\")\n",
    "#data, labels, X_train, X_test, y_train, y_test, = dataset_distribution(\"chi2\")\n",
    "#data, labels, X_train, X_test, y_train, y_test, = dataset_distribution(\"rfe\")\n",
    "\n",
    "#Scaled\n",
    "#data, labels, X_train, X_test, y_train, y_test  = dataset_distribution(\"normal\", scaled=True)\n",
    "#data, labels, X_train, X_test, y_train, y_test, = dataset_distribution(\"chi2\"  , scaled=True)\n",
    "#data, labels, X_train, X_test, y_train, y_test, = dataset_distribution(\"rfe\"   , scaled=True)\n",
    "\n",
    "#Truncated and scaled\n",
    "#data, labels, X_train, X_test, y_train, y_test = dataset_distribution(\"normal\", scaled=True, truncated=True)\n",
    "#data, labels, X_train, X_test, y_train, y_test = dataset_distribution(\"chi2\"  , scaled=True, truncated=True)\n",
    "data, labels, X_train, X_test, y_train, y_test = dataset_distribution(\"rfe\"   , scaled=True, truncated=True)"
   ]
  },
  {
   "cell_type": "markdown",
   "metadata": {
    "id": "PkNmxMroOoDP"
   },
   "source": [
    "We know that KNN depends on some hyper-parameters. Our first purpose for this part will be to find the best hyper-parameters for each dataset via cross-validation:"
   ]
  },
  {
   "cell_type": "code",
   "execution_count": 58,
   "metadata": {
    "colab": {
     "base_uri": "https://localhost:8080/"
    },
    "id": "q13Lc2eiHqOz",
    "outputId": "ed0023d4-5945-446c-da9b-3c0ff42284a9"
   },
   "outputs": [
    {
     "name": "stdout",
     "output_type": "stream",
     "text": [
      "Best hyper-params: {'n_neighbors': 1, 'weights': 'uniform'}\n"
     ]
    }
   ],
   "source": [
    "params_grid = {  \n",
    "    \"n_neighbors\": (1, 5, 10, 15, 20),\n",
    "    \"weights\": (\"uniform\", \"distance\")\n",
    "}\n",
    "KNN_model = KNeighborsClassifier()\n",
    "KNN_cv = GridSearchCV(KNN_model, params_grid)\n",
    "KNN_cv.fit(X_train, y_train)\n",
    "print('Best hyper-params: ' + str(KNN_cv.best_params_))\n",
    "#Best hyper-params: {'n_neighbors': 1, 'weights': 'uniform'}"
   ]
  },
  {
   "cell_type": "markdown",
   "metadata": {
    "id": "w3nRLgGOO0hp"
   },
   "source": [
    "Once that we have the best hyper-parameters for each dataset, we can set them, fit our model then observe the different results on the test set:"
   ]
  },
  {
   "cell_type": "code",
   "execution_count": 59,
   "metadata": {
    "colab": {
     "base_uri": "https://localhost:8080/"
    },
    "id": "jGuOFpz9EgqN",
    "outputId": "2cd0b041-ab96-48e2-c169-bbd34af0b73c"
   },
   "outputs": [
    {
     "name": "stdout",
     "output_type": "stream",
     "text": [
      "KNN score on test set : 0.9959\n",
      "Elapsed time: 0min 8s\n"
     ]
    }
   ],
   "source": [
    "start = time.time()\n",
    "\n",
    "KNN_model = KNeighborsClassifier(n_neighbors=1, weights='uniform')\n",
    "KNN_model.fit(X_train, y_train)\n",
    "KNN_score = KNN_model.score(X_test, y_test)\n",
    "\n",
    "seconds = round(time.time() - start)\n",
    "\n",
    "# results\n",
    "minutes = seconds // 60\n",
    "seconds %= 60\n",
    "print('KNN score on test set : {:.4f}'.format(KNN_score))\n",
    "print('Elapsed time: {}min {}s'.format(minutes, seconds))\n",
    "\n",
    "# Not scaled\n",
    "# dataset used      : |    normal     |     chi2      |      rfe      |\n",
    "# best hyper-params : | {1,'uniform'} | {1,'uniform'} | {1,'uniform'} | <-- format: {'n_neighbors', 'weights'}\n",
    "# score on test set : |    0.9959     |    0.9958     |    0.9958     |        \n",
    "# computation time  : |   1min 06s    |      58s      |      52s      |\n",
    "\n",
    "# Scaled\n",
    "# dataset used      : |    normal     |     chi2      |      rfe      |   \n",
    "# best hyper-params : | {1,'uniform'} | {1,'uniform'} | {1,'uniform'} | <-- format: {'n_neighbors', 'weights'}\n",
    "# score on test set : |    0.9983     |    0.9988     |    0.9988     |\n",
    "# computation time  : |   1min 11s    |      48s      |      48s      |\n",
    "\n",
    "# Truncated and scaled\n",
    "# dataset used      : |    normal     |     chi2      |      rfe      |   \n",
    "# best hyper-params : | {1,'uniform'} | {1,'uniform'} | {1,'uniform'} | <-- format: {'n_neighbors', 'weights'}\n",
    "# score on test set : |    0.9934     |    0.9960     |    0.9962     |\n",
    "# computation time  : |      3s       |      3s       |      3s       |"
   ]
  },
  {
   "cell_type": "markdown",
   "metadata": {
    "id": "njk5YeVdDksn"
   },
   "source": [
    "For the **KNN model**, we can see that almost every dataset works very well (above 99%) thanks to the big dataset. The only issue with those big dataset is that KNN is not suited for big dataset as <u>it gets slower as the dataset gets bigger</u>. \n",
    "\n",
    "For this reason, we tried to create truncated datasets to see if we can find a size that can combine both accuracy and computation speed. We can see that the score is better with scaled data, and with only 20% of the dataset we still have more than 99% accuracy. It went also 20 times faster.\n",
    "\n",
    "For the KNN model, we will then keep the truncated dataset_rfe because it is the one with which the score is better while the computation time is shorter (0.9962 for 3s)."
   ]
  },
  {
   "cell_type": "markdown",
   "metadata": {
    "id": "fbffiZJ3Pdnu"
   },
   "source": [
    "The question is now to know the optimal percentage of the dataset to keep an accuracy that remains high :"
   ]
  },
  {
   "cell_type": "code",
   "execution_count": 60,
   "metadata": {
    "id": "WyxFBsVzb-Z7"
   },
   "outputs": [],
   "source": [
    "ratio_range= [0.001, 0.0025, 0.005, 0.0075, 0.01, 0.025, 0.05, 0.075, 0.1, 0.25, 0.5, 0.75, 1]\n",
    "times = []\n",
    "test_acc = []\n",
    "for ratio in ratio_range:\n",
    "    data, labels, X_train, X_test, y_train, y_test = dataset_distribution(\"rfe\", scaled=True, truncated=True, ratio=ratio)\n",
    "    start = time.time()\n",
    "    model = KNeighborsClassifier(n_neighbors=1, weights='uniform')\n",
    "    model.fit(X_train, y_train)\n",
    "    KNN_score = model.score(X_test, y_test)\n",
    "    seconds = round(time.time() - start)\n",
    "    test_acc.append(KNN_score)\n",
    "    times.append(seconds)"
   ]
  },
  {
   "cell_type": "code",
   "execution_count": 61,
   "metadata": {
    "colab": {
     "base_uri": "https://localhost:8080/",
     "height": 334
    },
    "id": "96JD-8dNjsmG",
    "outputId": "aad3f2dd-1733-4633-ef85-3c4ea0f05a31"
   },
   "outputs": [
    {
     "data": {
      "image/png": "[encoded data removed]",
      "text/plain": [
       "<Figure size 1500x500 with 2 Axes>"
      ]
     },
     "metadata": {},
     "output_type": "display_data"
    }
   ],
   "source": [
    "plt.figure(figsize=(15,5))\n",
    "\n",
    "#plot 1:\n",
    "plt.subplot(1, 2, 1)\n",
    "plt.plot( np.array(ratio_range)*100 , np.array(test_acc)*100)\n",
    "plt.xlabel(\"Dataset ratio (%)\")\n",
    "plt.ylabel(\"Accuracy (%)\")\n",
    "\n",
    "#plot 2:\n",
    "plt.subplot(1, 2, 2)\n",
    "plt.plot( np.array(ratio_range)*100 , np.array(times) )\n",
    "plt.xlabel(\"Dataset ratio (%)\")\n",
    "plt.ylabel(\"Calculation time (s)\")\n",
    "\n",
    "plt.show()"
   ]
  },
  {
   "cell_type": "markdown",
   "metadata": {
    "id": "bK2WskpUcVkR"
   },
   "source": [
    "As we can see ono those graphs, a <u>**bigger**</u> dataset implies an <u>**longer**</u> calculation time. For this dataset, since the maximum calculation time is reasonable (almost a minute) we can consider using the whole dataset, but for more complex models it can be interesting if we want faster predictions.\n",
    "\n",
    "We can conclude for a KNN that working with only 20% of the dataset allows us to keep a good accuracy while having a computation time that is lower than 10s."
   ]
  },
  {
   "cell_type": "markdown",
   "metadata": {
    "id": "ucJuasr0wQ2c"
   },
   "source": [
    "## $\\rm{3)}$ Random Forest classifier\n",
    "\n",
    "In the realm of nonlinear models, random forest is one of the most interesting techniques. The idea behind it is to build several decision trees independently, and then to average their predictions. In particular, each tree is learned from bootstrapped observations, using a random subset of the features at each node split. As a result of this randomness, the combined trees yield a prediction model that is usually better than any of the individual tree."
   ]
  },
  {
   "cell_type": "markdown",
   "metadata": {
    "id": "FZcbNOO73cSI"
   },
   "source": [
    "Unlike the K-Nearest Neighbors algorithm for example, the Random Forest algorithm is not a distance-based model: it is a tree-based model. Indeed, the algorithm is based on partitioning the data to make predictions, therefore, it does not require normalization.\n",
    "\n",
    "We can then stock our variables for the desired dataset thanks to the function *dataset_distribution()* for our model as it follows:"
   ]
  },
  {
   "cell_type": "code",
   "execution_count": 62,
   "metadata": {
    "id": "hi5KZiPxF1eC"
   },
   "outputs": [],
   "source": [
    "# Raw\n",
    "#data, labels, X_train, X_test, y_train, y_test = dataset_distribution(\"normal\")\n",
    "#data, labels, X_train, X_test, y_train, y_test = dataset_distribution(\"chi2\")\n",
    "#data, labels, X_train, X_test, y_train, y_test = dataset_distribution(\"rfe\")\n",
    "\n",
    "# Truncated\n",
    "#data, labels, X_train, X_test, y_train, y_test = dataset_distribution(\"normal\", truncated=True)\n",
    "data, labels, X_train, X_test, y_train, y_test = dataset_distribution(\"chi2\", truncated=True)\n",
    "#data, labels, X_train, X_test, y_train, y_test = dataset_distribution(\"rfe\", truncated=True)"
   ]
  },
  {
   "cell_type": "markdown",
   "metadata": {
    "id": "LaRtDiNhD-hj"
   },
   "source": [
    "We know that Random forest depends on some hyper-parameters. Our first purpose for this part will be to find the best hyper-parameters for each dataset via cross-validation:"
   ]
  },
  {
   "cell_type": "code",
   "execution_count": 64,
   "metadata": {
    "colab": {
     "base_uri": "https://localhost:8080/"
    },
    "id": "fbYzK3N_w6wF",
    "outputId": "78cf3cab-45ff-4e4e-bcaf-a07e703a13a5"
   },
   "outputs": [
    {
     "name": "stdout",
     "output_type": "stream",
     "text": [
      "Best hyper-params: {'n_estimators': 80, 'max_features': 0.4}\n"
     ]
    }
   ],
   "source": [
    "# parameters\n",
    "params_grid = {\n",
    "    \"n_estimators\": (40, 60, 80, 100, 120),\n",
    "    \"max_features\": (0.2, 0.4, 0.6, 0.8, 1, 'sqrt', 'log2')\n",
    "}\n",
    "\n",
    "# cross-validation strategy\n",
    "cv = KFold(n_splits=5)\n",
    "\n",
    "# random forest\n",
    "forest = RandomForestClassifier(bootstrap=True, max_depth=None, min_samples_leaf=1, random_state=42)\n",
    "\n",
    "# hyper-parameter search\n",
    "forest_cv = GridSearchCV(forest, params_grid, cv=cv, n_jobs=5)\n",
    "forest_cv.fit(X_train, y_train)\n",
    "\n",
    "print('Best hyper-params: ' + str(forest_cv.best_params_))"
   ]
  },
  {
   "cell_type": "markdown",
   "metadata": {
    "id": "O70dHsT0FS2t"
   },
   "source": [
    "Once that we have the best hyper-parameters for each dataset, we can set them, fit our model then observe the different results on the test set:"
   ]
  },
  {
   "cell_type": "code",
   "execution_count": 65,
   "metadata": {
    "colab": {
     "base_uri": "https://localhost:8080/"
    },
    "id": "IiRREBjuHnAo",
    "outputId": "9f2bd33b-7f95-43fe-dcf1-ae0b18f60cb8"
   },
   "outputs": [
    {
     "name": "stdout",
     "output_type": "stream",
     "text": [
      "Random forest score on train set: 1.0000\n",
      "Random forest score on test set : 0.9977\n",
      "Elapsed time: 4s\n"
     ]
    }
   ],
   "source": [
    "start = time.time()\n",
    "\n",
    "# init, fit and score\n",
    "forest_model = RandomForestClassifier(bootstrap=True,\n",
    "                                max_depth=None,\n",
    "                                n_estimators=80, \n",
    "                                min_samples_leaf=1,\n",
    "                                max_features=0.4,   \n",
    "                                random_state=42)\n",
    "\n",
    "forest_model.fit(X_train, y_train)\n",
    "base_score = forest_model.score(X_train, y_train)\n",
    "forest_score = forest_model.score(X_test, y_test)\n",
    "\n",
    "seconds = round(time.time() - start)\n",
    "\n",
    "# display\n",
    "print('Random forest score on train set: {:.4f}'.format(base_score))\n",
    "print('Random forest score on test set : {:.4f}'.format(forest_score))\n",
    "print('Elapsed time: {}s'.format(seconds))               \n",
    "\n",
    "# Raw \n",
    "# dataset used       : |   normal   |    chi2    |     rfe    | \n",
    "# best hyper-params  : | {0.6, 100} | {0.6, 100} | {0.6, 100} | <-- format: {'max_features', 'n_estimators'}\n",
    "# score on train set : |   1.0000   |   1.0000   |   1.0000   |\n",
    "# score on test set  : |   0.9993   |   0.9993   |   0.9993   |    \n",
    "# computation time   : |     56s    |     33s    |     39s    |\n",
    " \n",
    "# Truncated \n",
    "# dataset used       : |   normal   |    chi2    |     rfe    |  \n",
    "# best hyper-params  : | {0.4, 100} |  {0.4, 80} |  {0.4, 60} | <-- format: {'max_features', 'n_estimators'}\n",
    "# score on train set : |   1.0000   |   1.0000   |   1.0000   |\n",
    "# score on test set  : |   0.9978   |   0.9977   |   0.9976   | \n",
    "# computation time   : |     6s     |     3s     |     3s     |"
   ]
  },
  {
   "cell_type": "markdown",
   "metadata": {
    "id": "hIxa0nQM6drn"
   },
   "source": [
    "Here, we can notice that none of our models are overfitting. We can however have two different observations:\n",
    "\n",
    "- For each non-truncated dataset, we can see that we get the same score, and that only the computation time varies (about 1min to about 30s). \n",
    "\n",
    "- When we observe the results from truncated datasets (here 20% of the whole datasets), we can see that the computation time is reduced to about 3s, and that we have the better score (0.9977) with only the 39 kept features from the chi squared test, which is still a great accuracy.\n",
    "\n",
    "As we can see, it is better to keep a truncated dataset because we save a lot of time without losing much precision. For the random forest, we will keep the dataset_chi2 because we have a better score for a shorter computation time.\n",
    "\n",
    "The question is now to know the optimal percentage of the dataset to keep an accuracy that remains high :"
   ]
  },
  {
   "cell_type": "code",
   "execution_count": 66,
   "metadata": {
    "id": "1zf9CXRueTiO"
   },
   "outputs": [],
   "source": [
    "ratio_range= [0.001, 0.0025, 0.005, 0.0075, 0.01, 0.025, 0.05, 0.075, 0.1, 0.25, 0.5, 0.75, 1]\n",
    "times = []\n",
    "train_acc = []\n",
    "test_acc = []\n",
    "for ratio in ratio_range:\n",
    "    data, labels, X_train, X_test, y_train, y_test = dataset_distribution(\"chi2\", truncated=True, ratio=ratio)\n",
    "    start = time.time()\n",
    "    model = RandomForestClassifier(bootstrap=True,\n",
    "                                  max_depth=None,\n",
    "                                  n_estimators=100, \n",
    "                                  min_samples_leaf=1,\n",
    "                                  max_features=0.4,   \n",
    "                                  random_state=42)\n",
    "    \n",
    "    model.fit(X_train, y_train)\n",
    "    forest_score = model.score(X_test, y_test)\n",
    "    seconds = round(time.time() - start)\n",
    "    base_score = model.score(X_train, y_train)\n",
    "    test_acc.append(forest_score)\n",
    "    train_acc.append(base_score)\n",
    "    times.append(seconds)"
   ]
  },
  {
   "cell_type": "code",
   "execution_count": 67,
   "metadata": {
    "colab": {
     "base_uri": "https://localhost:8080/",
     "height": 334
    },
    "id": "7x5-Ad9Stu9d",
    "outputId": "9ad08e3d-89f4-4e84-d49d-e9d84e2f5269"
   },
   "outputs": [
    {
     "data": {
      "image/png": "[encoded data removed]",
      "text/plain": [
       "<Figure size 1500x500 with 2 Axes>"
      ]
     },
     "metadata": {},
     "output_type": "display_data"
    }
   ],
   "source": [
    "plt.figure(figsize=(15,5))\n",
    "\n",
    "#plot 1:\n",
    "plt.subplot(1, 2, 1)\n",
    "plt.plot( np.array(ratio_range)*100 , np.array(test_acc)*100 , label=\"test set\")\n",
    "plt.plot( np.array(ratio_range)*100 , np.array(train_acc)*100, label=\"train set\" )\n",
    "plt.legend()\n",
    "plt.xlabel(\"Dataset ratio (%)\")\n",
    "plt.ylabel(\"Accuracy (%)\")\n",
    "\n",
    "#plot 2:\n",
    "plt.subplot(1, 2, 2)\n",
    "plt.plot( np.array(ratio_range)*100 , np.array(times) )\n",
    "plt.xlabel(\"Dataset ratio (%)\")\n",
    "plt.ylabel(\"Calculation time (s)\")\n",
    "\n",
    "plt.show()"
   ]
  },
  {
   "cell_type": "markdown",
   "metadata": {
    "id": "idUZCc_bNl-X"
   },
   "source": [
    "Thanks to the plots, we can conclude for a Random Forest that working with only 20% of the dataset allows us to keep a good accuracy while having a computation time that is lower than 5s."
   ]
  },
  {
   "cell_type": "markdown",
   "metadata": {
    "id": "0P6p2xLmwzXj"
   },
   "source": [
    "## $\\rm{4)}$ Neural Network"
   ]
  },
  {
   "cell_type": "markdown",
   "metadata": {
    "id": "_fJi_mJ-r7Ac"
   },
   "source": [
    "The neural network takes a special place in the models chosen. \n",
    "\n",
    "Indeed, unlike other models, it is no longer a question of selecting features from among all the data, it will be the network itself that will determine which are the most significant data. This will allow us to obtain a model which, if done well, will perform very well. \n",
    "\n",
    "The first thing to do is the preprocessing part, we have already one hot encoded the data, so lets split the dataset in 2 parts. The first one, the training part will consist on train the neural network with 80% of the data set. The second one is the test part with 20% of the data set to validate our model."
   ]
  },
  {
   "cell_type": "markdown",
   "metadata": {
    "id": "odfrA8PBupeN"
   },
   "source": [
    "In fact, the preprocessing part was done before, and the \"normal\" value means we take the whole data shaping in the good format."
   ]
  },
  {
   "cell_type": "code",
   "execution_count": 72,
   "metadata": {
    "id": "VrwsaxlYw7UI"
   },
   "outputs": [],
   "source": [
    "data, labels, X_train, X_test, y_train, y_test = dataset_distribution(\"normal\", scaled=True)"
   ]
  },
  {
   "cell_type": "markdown",
   "metadata": {
    "id": "yfsPS--JumWd"
   },
   "source": [
    "Then we have to create the model. \n",
    "\n",
    "The first thing to put is the value of the input shape. We know that the shape of the test data and the train data were reshape in ('Something',119). The 'something means the number of rows. That gives the input shape (None, 119). \n",
    "\n",
    "Then we want a classification in multiple values, so whe have to put a softmax function of activation for the last layer. And we have to select a number of perceptron equals to the length of the labels that we want to classify.For the other activations functions we chose the ReLU funtion and the number of neuron that we want.\n",
    "\n",
    "In the same way, during the compilation of the model, we have to chose the loss 'categorical_crossentropy' to classify into more than two categories.\n",
    "\n",
    "After many tries, we select those parameters which sems pretty good. "
   ]
  },
  {
   "cell_type": "code",
   "execution_count": 73,
   "metadata": {
    "colab": {
     "base_uri": "https://localhost:8080/"
    },
    "id": "ADZLzMJopWc6",
    "outputId": "721ca590-0d27-4652-e87e-918fa2b1f03b"
   },
   "outputs": [
    {
     "name": "stdout",
     "output_type": "stream",
     "text": [
      "Model: \"sequential_1\"\n",
      "_________________________________________________________________\n",
      " Layer (type)                Output Shape              Param #   \n",
      "=================================================================\n",
      " dense_4 (Dense)             (None, None, 64)          7680      \n",
      "                                                                 \n",
      " dense_5 (Dense)             (None, None, 128)         8320      \n",
      "                                                                 \n",
      " dense_6 (Dense)             (None, None, 32)          4128      \n",
      "                                                                 \n",
      " dense_7 (Dense)             (None, None, 5)           165       \n",
      "                                                                 \n",
      "=================================================================\n",
      "Total params: 20,293\n",
      "Trainable params: 20,293\n",
      "Non-trainable params: 0\n",
      "_________________________________________________________________\n"
     ]
    }
   ],
   "source": [
    "model = models.Sequential()\n",
    "model.add(layers.Dense(64, activation='relu',input_shape=(None, 119)))\n",
    "model.add(layers.Dense(128, activation='relu'))\n",
    "model.add(layers.Dense(32, activation='relu'))\n",
    "model.add(layers.Dense(5, activation='softmax'))\n",
    "\n",
    "model.compile(loss='categorical_crossentropy', optimizer='adam', metrics=['accuracy'])\n",
    "model.summary()"
   ]
  },
  {
   "cell_type": "markdown",
   "metadata": {
    "id": "zEpyLD_V0S6k"
   },
   "source": [
    "Finally, we need to train the model, we chose a batch size of 200 for 60 epochs."
   ]
  },
  {
   "cell_type": "code",
   "execution_count": 74,
   "metadata": {
    "colab": {
     "base_uri": "https://localhost:8080/"
    },
    "id": "KUNQMI_LNwBe",
    "outputId": "587b2253-395a-46c8-d58c-75faaa36aa11"
   },
   "outputs": [
    {
     "name": "stdout",
     "output_type": "stream",
     "text": [
      "Epoch 1/60\n",
      "WARNING:tensorflow:Model was constructed with shape (None, None, 119) for input KerasTensor(type_spec=TensorSpec(shape=(None, None, 119), dtype=tf.float32, name='dense_4_input'), name='dense_4_input', description=\"created by layer 'dense_4_input'\"), but it was called on an input with incompatible shape (None, 119).\n",
      "WARNING:tensorflow:Model was constructed with shape (None, None, 119) for input KerasTensor(type_spec=TensorSpec(shape=(None, None, 119), dtype=tf.float32, name='dense_4_input'), name='dense_4_input', description=\"created by layer 'dense_4_input'\"), but it was called on an input with incompatible shape (None, 119).\n",
      "338/338 [==============================] - ETA: 0s - loss: 0.1346 - accuracy: 0.9704WARNING:tensorflow:Model was constructed with shape (None, None, 119) for input KerasTensor(type_spec=TensorSpec(shape=(None, None, 119), dtype=tf.float32, name='dense_4_input'), name='dense_4_input', description=\"created by layer 'dense_4_input'\"), but it was called on an input with incompatible shape (None, 119).\n",
      "338/338 [==============================] - 3s 5ms/step - loss: 0.1346 - accuracy: 0.9704 - val_loss: 0.0210 - val_accuracy: 0.9937\n",
      "Epoch 2/60\n",
      "338/338 [==============================] - 2s 4ms/step - loss: 0.0173 - accuracy: 0.9953 - val_loss: 0.0163 - val_accuracy: 0.9940\n",
      "Epoch 3/60\n",
      "338/338 [==============================] - 2s 5ms/step - loss: 0.0125 - accuracy: 0.9957 - val_loss: 0.0103 - val_accuracy: 0.9966\n",
      "Epoch 4/60\n",
      "338/338 [==============================] - 2s 4ms/step - loss: 0.0104 - accuracy: 0.9966 - val_loss: 0.0114 - val_accuracy: 0.9962\n",
      "Epoch 5/60\n",
      "338/338 [==============================] - 2s 5ms/step - loss: 0.0084 - accuracy: 0.9970 - val_loss: 0.0093 - val_accuracy: 0.9970\n",
      "Epoch 6/60\n",
      "338/338 [==============================] - 2s 5ms/step - loss: 0.0072 - accuracy: 0.9975 - val_loss: 0.0092 - val_accuracy: 0.9967\n",
      "Epoch 7/60\n",
      "338/338 [==============================] - 2s 5ms/step - loss: 0.0077 - accuracy: 0.9975 - val_loss: 0.0095 - val_accuracy: 0.9968\n",
      "Epoch 8/60\n",
      "338/338 [==============================] - 2s 5ms/step - loss: 0.0075 - accuracy: 0.9975 - val_loss: 0.0086 - val_accuracy: 0.9970\n",
      "Epoch 9/60\n",
      "338/338 [==============================] - 2s 5ms/step - loss: 0.0066 - accuracy: 0.9976 - val_loss: 0.0100 - val_accuracy: 0.9972\n",
      "Epoch 10/60\n",
      "338/338 [==============================] - 2s 5ms/step - loss: 0.0050 - accuracy: 0.9984 - val_loss: 0.0088 - val_accuracy: 0.9982\n",
      "Epoch 11/60\n",
      "338/338 [==============================] - 2s 5ms/step - loss: 0.0044 - accuracy: 0.9985 - val_loss: 0.0062 - val_accuracy: 0.9983\n",
      "Epoch 12/60\n",
      "338/338 [==============================] - 2s 5ms/step - loss: 0.0042 - accuracy: 0.9984 - val_loss: 0.0063 - val_accuracy: 0.9973\n",
      "Epoch 13/60\n",
      "338/338 [==============================] - 2s 4ms/step - loss: 0.0044 - accuracy: 0.9984 - val_loss: 0.0052 - val_accuracy: 0.9986\n",
      "Epoch 14/60\n",
      "338/338 [==============================] - 2s 5ms/step - loss: 0.0045 - accuracy: 0.9984 - val_loss: 0.0054 - val_accuracy: 0.9977\n",
      "Epoch 15/60\n",
      "338/338 [==============================] - 2s 5ms/step - loss: 0.0053 - accuracy: 0.9983 - val_loss: 0.0097 - val_accuracy: 0.9982\n",
      "Epoch 16/60\n",
      "338/338 [==============================] - 2s 5ms/step - loss: 0.0037 - accuracy: 0.9988 - val_loss: 0.0109 - val_accuracy: 0.9982\n",
      "Epoch 17/60\n",
      "338/338 [==============================] - 2s 5ms/step - loss: 0.0030 - accuracy: 0.9989 - val_loss: 0.0106 - val_accuracy: 0.9986\n",
      "Epoch 18/60\n",
      "338/338 [==============================] - 2s 4ms/step - loss: 0.0031 - accuracy: 0.9990 - val_loss: 0.0141 - val_accuracy: 0.9979\n",
      "Epoch 19/60\n",
      "338/338 [==============================] - 2s 5ms/step - loss: 0.0031 - accuracy: 0.9989 - val_loss: 0.0141 - val_accuracy: 0.9985\n",
      "Epoch 20/60\n",
      "338/338 [==============================] - 1s 4ms/step - loss: 0.0030 - accuracy: 0.9988 - val_loss: 0.0151 - val_accuracy: 0.9986\n",
      "Epoch 21/60\n",
      "338/338 [==============================] - 2s 4ms/step - loss: 0.0032 - accuracy: 0.9989 - val_loss: 0.0211 - val_accuracy: 0.9985\n",
      "Epoch 22/60\n",
      "338/338 [==============================] - 2s 5ms/step - loss: 0.0036 - accuracy: 0.9988 - val_loss: 0.0220 - val_accuracy: 0.9985\n",
      "Epoch 23/60\n",
      "338/338 [==============================] - 1s 4ms/step - loss: 0.0038 - accuracy: 0.9990 - val_loss: 0.0171 - val_accuracy: 0.9979\n",
      "Epoch 24/60\n",
      "338/338 [==============================] - 2s 5ms/step - loss: 0.0042 - accuracy: 0.9988 - val_loss: 0.0193 - val_accuracy: 0.9987\n",
      "Epoch 25/60\n",
      "338/338 [==============================] - 2s 5ms/step - loss: 0.0046 - accuracy: 0.9990 - val_loss: 0.0136 - val_accuracy: 0.9987\n",
      "Epoch 26/60\n",
      "338/338 [==============================] - 2s 5ms/step - loss: 0.0024 - accuracy: 0.9991 - val_loss: 0.0122 - val_accuracy: 0.9989\n",
      "Epoch 27/60\n",
      "338/338 [==============================] - 2s 5ms/step - loss: 0.0022 - accuracy: 0.9992 - val_loss: 0.0123 - val_accuracy: 0.9989\n",
      "Epoch 28/60\n",
      "338/338 [==============================] - 2s 5ms/step - loss: 0.0022 - accuracy: 0.9992 - val_loss: 0.0138 - val_accuracy: 0.9990\n",
      "Epoch 29/60\n",
      "338/338 [==============================] - 2s 5ms/step - loss: 0.0031 - accuracy: 0.9989 - val_loss: 0.0139 - val_accuracy: 0.9989\n",
      "Epoch 30/60\n",
      "338/338 [==============================] - 2s 5ms/step - loss: 0.0021 - accuracy: 0.9992 - val_loss: 0.0078 - val_accuracy: 0.9987\n",
      "Epoch 31/60\n",
      "338/338 [==============================] - 2s 5ms/step - loss: 0.0022 - accuracy: 0.9992 - val_loss: 0.0096 - val_accuracy: 0.9991\n",
      "Epoch 32/60\n",
      "338/338 [==============================] - 2s 5ms/step - loss: 0.0018 - accuracy: 0.9993 - val_loss: 0.0076 - val_accuracy: 0.9986\n",
      "Epoch 33/60\n",
      "338/338 [==============================] - 2s 5ms/step - loss: 0.0020 - accuracy: 0.9992 - val_loss: 0.0111 - val_accuracy: 0.9986\n",
      "Epoch 34/60\n",
      "338/338 [==============================] - 2s 5ms/step - loss: 0.0025 - accuracy: 0.9990 - val_loss: 0.0083 - val_accuracy: 0.9989\n",
      "Epoch 35/60\n",
      "338/338 [==============================] - 2s 5ms/step - loss: 0.0019 - accuracy: 0.9991 - val_loss: 0.0054 - val_accuracy: 0.9988\n",
      "Epoch 36/60\n",
      "338/338 [==============================] - 2s 5ms/step - loss: 0.0020 - accuracy: 0.9992 - val_loss: 0.0047 - val_accuracy: 0.9986\n",
      "Epoch 37/60\n",
      "338/338 [==============================] - 2s 5ms/step - loss: 0.0018 - accuracy: 0.9992 - val_loss: 0.0092 - val_accuracy: 0.9988\n",
      "Epoch 38/60\n",
      "338/338 [==============================] - 2s 5ms/step - loss: 0.0020 - accuracy: 0.9992 - val_loss: 0.0157 - val_accuracy: 0.9988\n",
      "Epoch 39/60\n",
      "338/338 [==============================] - 2s 5ms/step - loss: 0.0018 - accuracy: 0.9993 - val_loss: 0.0041 - val_accuracy: 0.9988\n",
      "Epoch 40/60\n",
      "338/338 [==============================] - 2s 5ms/step - loss: 0.0039 - accuracy: 0.9989 - val_loss: 0.0102 - val_accuracy: 0.9985\n",
      "Epoch 41/60\n",
      "338/338 [==============================] - 2s 5ms/step - loss: 0.0025 - accuracy: 0.9991 - val_loss: 0.0073 - val_accuracy: 0.9985\n",
      "Epoch 42/60\n",
      "338/338 [==============================] - 2s 5ms/step - loss: 0.0020 - accuracy: 0.9993 - val_loss: 0.0040 - val_accuracy: 0.9991\n",
      "Epoch 43/60\n",
      "338/338 [==============================] - 2s 5ms/step - loss: 0.0018 - accuracy: 0.9993 - val_loss: 0.0049 - val_accuracy: 0.9984\n",
      "Epoch 44/60\n",
      "338/338 [==============================] - 2s 5ms/step - loss: 0.0017 - accuracy: 0.9993 - val_loss: 0.0036 - val_accuracy: 0.9990\n",
      "Epoch 45/60\n",
      "338/338 [==============================] - 2s 5ms/step - loss: 0.0018 - accuracy: 0.9994 - val_loss: 0.0037 - val_accuracy: 0.9989\n",
      "Epoch 46/60\n",
      "338/338 [==============================] - 2s 5ms/step - loss: 0.0019 - accuracy: 0.9994 - val_loss: 0.0037 - val_accuracy: 0.9989\n",
      "Epoch 47/60\n",
      "338/338 [==============================] - 2s 5ms/step - loss: 0.0022 - accuracy: 0.9992 - val_loss: 0.0041 - val_accuracy: 0.9989\n",
      "Epoch 48/60\n",
      "338/338 [==============================] - 2s 5ms/step - loss: 0.0018 - accuracy: 0.9992 - val_loss: 0.0041 - val_accuracy: 0.9989\n",
      "Epoch 49/60\n",
      "338/338 [==============================] - 2s 5ms/step - loss: 0.0018 - accuracy: 0.9993 - val_loss: 0.0046 - val_accuracy: 0.9987\n",
      "Epoch 50/60\n",
      "338/338 [==============================] - 2s 5ms/step - loss: 0.0015 - accuracy: 0.9994 - val_loss: 0.0034 - val_accuracy: 0.9989\n",
      "Epoch 51/60\n",
      "338/338 [==============================] - 2s 5ms/step - loss: 0.0032 - accuracy: 0.9992 - val_loss: 0.0039 - val_accuracy: 0.9991\n",
      "Epoch 52/60\n",
      "338/338 [==============================] - 2s 5ms/step - loss: 0.0017 - accuracy: 0.9993 - val_loss: 0.0032 - val_accuracy: 0.9992\n",
      "Epoch 53/60\n",
      "338/338 [==============================] - 2s 5ms/step - loss: 0.0014 - accuracy: 0.9994 - val_loss: 0.0043 - val_accuracy: 0.9990\n",
      "Epoch 54/60\n",
      "338/338 [==============================] - 2s 5ms/step - loss: 0.0017 - accuracy: 0.9993 - val_loss: 0.0031 - val_accuracy: 0.9992\n",
      "Epoch 55/60\n",
      "338/338 [==============================] - 2s 5ms/step - loss: 0.0022 - accuracy: 0.9992 - val_loss: 0.0036 - val_accuracy: 0.9989\n",
      "Epoch 56/60\n",
      "338/338 [==============================] - 2s 5ms/step - loss: 0.0015 - accuracy: 0.9994 - val_loss: 0.0035 - val_accuracy: 0.9990\n",
      "Epoch 57/60\n",
      "338/338 [==============================] - 2s 5ms/step - loss: 0.0014 - accuracy: 0.9994 - val_loss: 0.0038 - val_accuracy: 0.9990\n",
      "Epoch 58/60\n",
      "338/338 [==============================] - 2s 5ms/step - loss: 0.0014 - accuracy: 0.9994 - val_loss: 0.0039 - val_accuracy: 0.9990\n",
      "Epoch 59/60\n",
      "338/338 [==============================] - 2s 5ms/step - loss: 0.0020 - accuracy: 0.9993 - val_loss: 0.0049 - val_accuracy: 0.9987\n",
      "Epoch 60/60\n",
      "338/338 [==============================] - 2s 5ms/step - loss: 0.0017 - accuracy: 0.9994 - val_loss: 0.0042 - val_accuracy: 0.9989\n"
     ]
    }
   ],
   "source": [
    "start = time.time()\n",
    "history = model.fit(X_train, y_train, epochs=60, batch_size=200, validation_split=0.2)\n",
    "seconds = round(time.time() - start)"
   ]
  },
  {
   "cell_type": "markdown",
   "metadata": {
    "id": "Gd2LRO-800FJ"
   },
   "source": [
    "And we plot the training and the test values."
   ]
  },
  {
   "cell_type": "code",
   "execution_count": 75,
   "metadata": {
    "colab": {
     "base_uri": "https://localhost:8080/",
     "height": 597
    },
    "id": "KfqtwGnqqkbB",
    "outputId": "3119ace9-e4cd-4c71-99d8-3446ef8f5e8c"
   },
   "outputs": [
    {
     "data": {
      "image/png": "[encoded data removed]",
      "text/plain": [
       "<Figure size 640x480 with 1 Axes>"
      ]
     },
     "metadata": {},
     "output_type": "display_data"
    },
    {
     "data": {
      "image/png": "[encoded data removed]",
      "text/plain": [
       "<Figure size 640x480 with 1 Axes>"
      ]
     },
     "metadata": {},
     "output_type": "display_data"
    },
    {
     "name": "stdout",
     "output_type": "stream",
     "text": [
      "1300/1300 [==============================] - 3s 3ms/step - loss: 0.0123 - accuracy: 0.9985\n",
      "Test accuracy: 99.84845519065857 %\n",
      "Elapsed time: 1min 37s\n"
     ]
    }
   ],
   "source": [
    "# Get the training info\n",
    "loss     = history.history['loss']\n",
    "val_loss = history.history['val_loss']\n",
    "acc      = history.history['accuracy']\n",
    "val_acc  = history.history['val_accuracy']\n",
    "\n",
    "# Visualize the history plots\n",
    "plt.figure()\n",
    "plt.plot(loss, 'b', label='Training loss')\n",
    "plt.plot(val_loss, 'm', label='Validation loss')\n",
    "plt.title('Training and validation loss')\n",
    "plt.legend()\n",
    "plt.show()\n",
    "plt.figure()\n",
    "plt.plot(acc, 'b', label='Training acc')\n",
    "plt.plot(val_acc, 'm', label='Validation acc')\n",
    "plt.title('Training and validation accuracy')\n",
    "plt.legend()\n",
    "plt.show()\n",
    "\n",
    "valid_loss, valid_acc = model.evaluate(X_test, y_test)\n",
    "print(\"Test accuracy:\", valid_acc*100, \"%\")\n",
    "\n",
    "minutes = seconds // 60\n",
    "seconds %= 60\n",
    "print('Elapsed time: {}min {}s'.format(minutes, seconds)) "
   ]
  },
  {
   "cell_type": "markdown",
   "metadata": {
    "id": "Bl2r0Ikc09CG"
   },
   "source": [
    "We can see that the model have an accuracy of 99,85% and almost no overfit. So the neural network is very efficient in those data. Compared to the previous models, we can see that the neural network is time-consuming without having the best accuracy."
   ]
  },
  {
   "cell_type": "markdown",
   "metadata": {
    "id": "SE2dNOJY1rZN"
   },
   "source": [
    "# $\\rm{IV}$<b> - Result on the *Test.csv* file</b>"
   ]
  },
  {
   "cell_type": "markdown",
   "metadata": {
    "id": "xXNANPcz2KGk"
   },
   "source": [
    "## $\\rm{1)}$ Recovering and manipulating the data"
   ]
  },
  {
   "cell_type": "markdown",
   "metadata": {
    "id": "ZyOtvbddbLbt"
   },
   "source": [
    "For this last part, we first need to recover the file *Test.csv* in order to make the predictions on it. We will then use our oneHotEncoder from the part $\\rm{I-5)}$ to reshape or dataframe :"
   ]
  },
  {
   "cell_type": "code",
   "execution_count": 76,
   "metadata": {
    "colab": {
     "base_uri": "https://localhost:8080/",
     "height": 317
    },
    "id": "opOr9GPbrVID",
    "outputId": "5e60b773-cc1a-40ac-b43a-5b0a23e320a4"
   },
   "outputs": [
    {
     "name": "stdout",
     "output_type": "stream",
     "text": [
      "Shape : (100, 123)\n"
     ]
    },
    {
     "data": {
      "text/html": [
       "<div>\n",
       "<style scoped>\n",
       "    .dataframe tbody tr th:only-of-type {\n",
       "        vertical-align: middle;\n",
       "    }\n",
       "\n",
       "    .dataframe tbody tr th {\n",
       "        vertical-align: top;\n",
       "    }\n",
       "\n",
       "    .dataframe thead th {\n",
       "        text-align: right;\n",
       "    }\n",
       "</style>\n",
       "<table border=\"1\" class=\"dataframe\">\n",
       "  <thead>\n",
       "    <tr style=\"text-align: right;\">\n",
       "      <th></th>\n",
       "      <th>duration</th>\n",
       "      <th>src_bytes</th>\n",
       "      <th>dst_bytes</th>\n",
       "      <th>land</th>\n",
       "      <th>wrong_fragment</th>\n",
       "      <th>urgent</th>\n",
       "      <th>hot</th>\n",
       "      <th>num_failed_logins</th>\n",
       "      <th>logged_in</th>\n",
       "      <th>num_compromised</th>\n",
       "      <th>...</th>\n",
       "      <th>flag_REJ</th>\n",
       "      <th>flag_RSTO</th>\n",
       "      <th>flag_RSTOS0</th>\n",
       "      <th>flag_RSTR</th>\n",
       "      <th>flag_S0</th>\n",
       "      <th>flag_S1</th>\n",
       "      <th>flag_S2</th>\n",
       "      <th>flag_S3</th>\n",
       "      <th>flag_SF</th>\n",
       "      <th>flag_SH</th>\n",
       "    </tr>\n",
       "  </thead>\n",
       "  <tbody>\n",
       "    <tr>\n",
       "      <th>0</th>\n",
       "      <td>0</td>\n",
       "      <td>0</td>\n",
       "      <td>0</td>\n",
       "      <td>0</td>\n",
       "      <td>0</td>\n",
       "      <td>0</td>\n",
       "      <td>0</td>\n",
       "      <td>0</td>\n",
       "      <td>0</td>\n",
       "      <td>0</td>\n",
       "      <td>...</td>\n",
       "      <td>1.0</td>\n",
       "      <td>0.0</td>\n",
       "      <td>0.0</td>\n",
       "      <td>0.0</td>\n",
       "      <td>0.0</td>\n",
       "      <td>0.0</td>\n",
       "      <td>0.0</td>\n",
       "      <td>0.0</td>\n",
       "      <td>0.0</td>\n",
       "      <td>0.0</td>\n",
       "    </tr>\n",
       "    <tr>\n",
       "      <th>1</th>\n",
       "      <td>0</td>\n",
       "      <td>0</td>\n",
       "      <td>0</td>\n",
       "      <td>0</td>\n",
       "      <td>0</td>\n",
       "      <td>0</td>\n",
       "      <td>0</td>\n",
       "      <td>0</td>\n",
       "      <td>0</td>\n",
       "      <td>0</td>\n",
       "      <td>...</td>\n",
       "      <td>1.0</td>\n",
       "      <td>0.0</td>\n",
       "      <td>0.0</td>\n",
       "      <td>0.0</td>\n",
       "      <td>0.0</td>\n",
       "      <td>0.0</td>\n",
       "      <td>0.0</td>\n",
       "      <td>0.0</td>\n",
       "      <td>0.0</td>\n",
       "      <td>0.0</td>\n",
       "    </tr>\n",
       "    <tr>\n",
       "      <th>2</th>\n",
       "      <td>2</td>\n",
       "      <td>12983</td>\n",
       "      <td>0</td>\n",
       "      <td>0</td>\n",
       "      <td>0</td>\n",
       "      <td>0</td>\n",
       "      <td>0</td>\n",
       "      <td>0</td>\n",
       "      <td>0</td>\n",
       "      <td>0</td>\n",
       "      <td>...</td>\n",
       "      <td>0.0</td>\n",
       "      <td>0.0</td>\n",
       "      <td>0.0</td>\n",
       "      <td>0.0</td>\n",
       "      <td>0.0</td>\n",
       "      <td>0.0</td>\n",
       "      <td>0.0</td>\n",
       "      <td>0.0</td>\n",
       "      <td>1.0</td>\n",
       "      <td>0.0</td>\n",
       "    </tr>\n",
       "    <tr>\n",
       "      <th>3</th>\n",
       "      <td>0</td>\n",
       "      <td>20</td>\n",
       "      <td>0</td>\n",
       "      <td>0</td>\n",
       "      <td>0</td>\n",
       "      <td>0</td>\n",
       "      <td>0</td>\n",
       "      <td>0</td>\n",
       "      <td>0</td>\n",
       "      <td>0</td>\n",
       "      <td>...</td>\n",
       "      <td>0.0</td>\n",
       "      <td>0.0</td>\n",
       "      <td>0.0</td>\n",
       "      <td>0.0</td>\n",
       "      <td>0.0</td>\n",
       "      <td>0.0</td>\n",
       "      <td>0.0</td>\n",
       "      <td>0.0</td>\n",
       "      <td>1.0</td>\n",
       "      <td>0.0</td>\n",
       "    </tr>\n",
       "    <tr>\n",
       "      <th>4</th>\n",
       "      <td>1</td>\n",
       "      <td>0</td>\n",
       "      <td>15</td>\n",
       "      <td>0</td>\n",
       "      <td>0</td>\n",
       "      <td>0</td>\n",
       "      <td>0</td>\n",
       "      <td>0</td>\n",
       "      <td>0</td>\n",
       "      <td>0</td>\n",
       "      <td>...</td>\n",
       "      <td>0.0</td>\n",
       "      <td>1.0</td>\n",
       "      <td>0.0</td>\n",
       "      <td>0.0</td>\n",
       "      <td>0.0</td>\n",
       "      <td>0.0</td>\n",
       "      <td>0.0</td>\n",
       "      <td>0.0</td>\n",
       "      <td>0.0</td>\n",
       "      <td>0.0</td>\n",
       "    </tr>\n",
       "  </tbody>\n",
       "</table>\n",
       "<p>5 rows × 123 columns</p>\n",
       "</div>"
      ],
      "text/plain": [
       "   duration  src_bytes  dst_bytes  land  wrong_fragment  urgent  hot  \\\n",
       "0         0          0          0     0               0       0    0   \n",
       "1         0          0          0     0               0       0    0   \n",
       "2         2      12983          0     0               0       0    0   \n",
       "3         0         20          0     0               0       0    0   \n",
       "4         1          0         15     0               0       0    0   \n",
       "\n",
       "   num_failed_logins  logged_in  num_compromised  ...  flag_REJ  flag_RSTO  \\\n",
       "0                  0          0                0  ...       1.0        0.0   \n",
       "1                  0          0                0  ...       1.0        0.0   \n",
       "2                  0          0                0  ...       0.0        0.0   \n",
       "3                  0          0                0  ...       0.0        0.0   \n",
       "4                  0          0                0  ...       0.0        1.0   \n",
       "\n",
       "   flag_RSTOS0  flag_RSTR  flag_S0  flag_S1  flag_S2  flag_S3  flag_SF  \\\n",
       "0          0.0        0.0      0.0      0.0      0.0      0.0      0.0   \n",
       "1          0.0        0.0      0.0      0.0      0.0      0.0      0.0   \n",
       "2          0.0        0.0      0.0      0.0      0.0      0.0      1.0   \n",
       "3          0.0        0.0      0.0      0.0      0.0      0.0      1.0   \n",
       "4          0.0        0.0      0.0      0.0      0.0      0.0      0.0   \n",
       "\n",
       "   flag_SH  \n",
       "0      0.0  \n",
       "1      0.0  \n",
       "2      0.0  \n",
       "3      0.0  \n",
       "4      0.0  \n",
       "\n",
       "[5 rows x 123 columns]"
      ]
     },
     "execution_count": 76,
     "metadata": {},
     "output_type": "execute_result"
    }
   ],
   "source": [
    "df_test = pd.read_csv(projectPath+'data/Test.csv', index_col=False) \n",
    "\n",
    "with open(projectPath+'data/oneHotEncoder.pickle', 'rb') as fp :\n",
    "    oneHotEncoder = pickle.load(fp)  \n",
    "\n",
    "# Extract the categorical variables\n",
    "categorical = df_test.select_dtypes(include=[object])\n",
    "\n",
    "# Transform\n",
    "encoded = oneHotEncoder.transform(categorical).toarray()\n",
    "\n",
    "# Keep the result into a dataframe\n",
    "encoded = pd.DataFrame(encoded, columns=oneHotEncoder.get_feature_names_out())\n",
    "\n",
    "# Drop the categorical data from the original dataframe\n",
    "df_test.drop(df_test.select_dtypes(include=[object]), axis=1, inplace=True) \n",
    "\n",
    "# Join the oneHotEncoded data to the dataframe\n",
    "df_test = df_test.join(encoded) \n",
    "\n",
    "# Result\n",
    "print(\"Shape :\", df_test.shape)\n",
    "df_test.head(5)"
   ]
  },
  {
   "cell_type": "markdown",
   "metadata": {
    "id": "PNnzBGBD2XpK"
   },
   "source": [
    "## $\\rm{2)}$ Model prediction"
   ]
  },
  {
   "cell_type": "markdown",
   "metadata": {
    "id": "gHZLZyx3bOGb"
   },
   "source": [
    "Once that we manipulated the dataframe from *Test.csv*, we will take our best model to make the prediction on it. \n",
    "\n",
    "Here, we will use the Random Forest Classifier because this is with this model that we had the best performances (3s computation time, score of 0.9977 with only 39 features).\n",
    "\n",
    "First, we need to recover the dataset from the training part in order to keep only the 39 most important features on our *Test.csv*."
   ]
  },
  {
   "cell_type": "code",
   "execution_count": 77,
   "metadata": {
    "colab": {
     "base_uri": "https://localhost:8080/"
    },
    "id": "PbPR5sd0u6Ij",
    "outputId": "9d31fa98-6dfc-453b-c4da-62e8b7782c25"
   },
   "outputs": [
    {
     "name": "stdout",
     "output_type": "stream",
     "text": [
      "X_train : (125973, 39)\n",
      "X_test  : (100, 39)\n"
     ]
    }
   ],
   "source": [
    "dataset_name = \"chi2\"\n",
    "ratio = 0.2\n",
    "\n",
    "X_train, _ = dataset_recovering(dataset_name)\n",
    "X_test = df_test[list(X_train.columns.values)]\n",
    "\n",
    "print(\"X_train :\", X_train.shape)\n",
    "print(\"X_test  :\", X_test.shape)"
   ]
  },
  {
   "cell_type": "markdown",
   "metadata": {
    "id": "feSGVzAbdIb3"
   },
   "source": [
    "Then, we can make our predictions on the *Test.csv* file, as it follows :"
   ]
  },
  {
   "cell_type": "code",
   "execution_count": 78,
   "metadata": {
    "colab": {
     "base_uri": "https://localhost:8080/",
     "height": 363
    },
    "id": "-Vi2YDHKvkM2",
    "outputId": "f43d7d29-8f4c-4161-f7eb-f86cfc18b267"
   },
   "outputs": [
    {
     "data": {
      "text/html": [
       "<div>\n",
       "<style scoped>\n",
       "    .dataframe tbody tr th:only-of-type {\n",
       "        vertical-align: middle;\n",
       "    }\n",
       "\n",
       "    .dataframe tbody tr th {\n",
       "        vertical-align: top;\n",
       "    }\n",
       "\n",
       "    .dataframe thead th {\n",
       "        text-align: right;\n",
       "    }\n",
       "</style>\n",
       "<table border=\"1\" class=\"dataframe\">\n",
       "  <thead>\n",
       "    <tr style=\"text-align: right;\">\n",
       "      <th></th>\n",
       "      <th>predictions</th>\n",
       "    </tr>\n",
       "  </thead>\n",
       "  <tbody>\n",
       "    <tr>\n",
       "      <th>0</th>\n",
       "      <td>attack_DoS</td>\n",
       "    </tr>\n",
       "    <tr>\n",
       "      <th>1</th>\n",
       "      <td>attack_DoS</td>\n",
       "    </tr>\n",
       "    <tr>\n",
       "      <th>2</th>\n",
       "      <td>attack_noAttack</td>\n",
       "    </tr>\n",
       "    <tr>\n",
       "      <th>3</th>\n",
       "      <td>attack_Probe</td>\n",
       "    </tr>\n",
       "    <tr>\n",
       "      <th>4</th>\n",
       "      <td>attack_DoS</td>\n",
       "    </tr>\n",
       "    <tr>\n",
       "      <th>5</th>\n",
       "      <td>attack_noAttack</td>\n",
       "    </tr>\n",
       "    <tr>\n",
       "      <th>6</th>\n",
       "      <td>attack_noAttack</td>\n",
       "    </tr>\n",
       "    <tr>\n",
       "      <th>7</th>\n",
       "      <td>attack_noAttack</td>\n",
       "    </tr>\n",
       "    <tr>\n",
       "      <th>8</th>\n",
       "      <td>attack_noAttack</td>\n",
       "    </tr>\n",
       "    <tr>\n",
       "      <th>9</th>\n",
       "      <td>attack_DoS</td>\n",
       "    </tr>\n",
       "  </tbody>\n",
       "</table>\n",
       "</div>"
      ],
      "text/plain": [
       "       predictions\n",
       "0       attack_DoS\n",
       "1       attack_DoS\n",
       "2  attack_noAttack\n",
       "3     attack_Probe\n",
       "4       attack_DoS\n",
       "5  attack_noAttack\n",
       "6  attack_noAttack\n",
       "7  attack_noAttack\n",
       "8  attack_noAttack\n",
       "9       attack_DoS"
      ]
     },
     "execution_count": 78,
     "metadata": {},
     "output_type": "execute_result"
    }
   ],
   "source": [
    "y_pred = forest_model.predict(X_test)\n",
    "\n",
    "predictions = np.argmax(y_pred, axis=1)\n",
    "predictions = pd.DataFrame(predictions)\n",
    "predictions.columns = ['predictions']\n",
    "\n",
    "attack_list = ['attack_DoS', 'attack_Probe', 'attack_R2L', 'attack_U2R', 'attack_noAttack']\n",
    "for i in range(len(attack_list)):\n",
    "    predictions = predictions.replace(i, attack_list[i])\n",
    "\n",
    "predictions.head(10)"
   ]
  },
  {
   "cell_type": "markdown",
   "metadata": {
    "id": "_DBlbU8l2foR"
   },
   "source": [
    "## $\\rm{3)}$ Final result"
   ]
  },
  {
   "cell_type": "markdown",
   "metadata": {
    "id": "3w-kIgJcdTOo"
   },
   "source": [
    "To have a better format of the predictions and easily compare them with the true result, we will store *y_pred* into a *.csv* file. This will allows to keep the labels and to easily convert it into a numpy array if needed. "
   ]
  },
  {
   "cell_type": "code",
   "execution_count": 79,
   "metadata": {
    "id": "p5l3Fr1CUyAz"
   },
   "outputs": [],
   "source": [
    "y_pred = pd.DataFrame(y_pred)\n",
    "y_pred.columns = attack_list"
   ]
  },
  {
   "cell_type": "code",
   "execution_count": 80,
   "metadata": {
    "id": "HkYxUsysVsGr"
   },
   "outputs": [],
   "source": [
    "y_pred.to_csv('./data/final_prediction.csv', index=False)"
   ]
  },
  {
   "cell_type": "code",
   "execution_count": 83,
   "metadata": {
    "colab": {
     "base_uri": "https://localhost:8080/",
     "height": 143
    },
    "id": "IyjlnXd8zZmG",
    "outputId": "d4bb6765-f286-4b07-99cb-cc2e8329fba5"
   },
   "outputs": [
    {
     "data": {
      "text/html": [
       "<div>\n",
       "<style scoped>\n",
       "    .dataframe tbody tr th:only-of-type {\n",
       "        vertical-align: middle;\n",
       "    }\n",
       "\n",
       "    .dataframe tbody tr th {\n",
       "        vertical-align: top;\n",
       "    }\n",
       "\n",
       "    .dataframe thead th {\n",
       "        text-align: right;\n",
       "    }\n",
       "</style>\n",
       "<table border=\"1\" class=\"dataframe\">\n",
       "  <thead>\n",
       "    <tr style=\"text-align: right;\">\n",
       "      <th></th>\n",
       "      <th>attack_DoS</th>\n",
       "      <th>attack_Probe</th>\n",
       "      <th>attack_R2L</th>\n",
       "      <th>attack_U2R</th>\n",
       "      <th>attack_noAttack</th>\n",
       "    </tr>\n",
       "  </thead>\n",
       "  <tbody>\n",
       "    <tr>\n",
       "      <th>0</th>\n",
       "      <td>1.0</td>\n",
       "      <td>0.0</td>\n",
       "      <td>0.0</td>\n",
       "      <td>0.0</td>\n",
       "      <td>0.0</td>\n",
       "    </tr>\n",
       "    <tr>\n",
       "      <th>1</th>\n",
       "      <td>1.0</td>\n",
       "      <td>0.0</td>\n",
       "      <td>0.0</td>\n",
       "      <td>0.0</td>\n",
       "      <td>0.0</td>\n",
       "    </tr>\n",
       "    <tr>\n",
       "      <th>2</th>\n",
       "      <td>0.0</td>\n",
       "      <td>0.0</td>\n",
       "      <td>0.0</td>\n",
       "      <td>0.0</td>\n",
       "      <td>1.0</td>\n",
       "    </tr>\n",
       "  </tbody>\n",
       "</table>\n",
       "</div>"
      ],
      "text/plain": [
       "   attack_DoS  attack_Probe  attack_R2L  attack_U2R  attack_noAttack\n",
       "0         1.0           0.0         0.0         0.0              0.0\n",
       "1         1.0           0.0         0.0         0.0              0.0\n",
       "2         0.0           0.0         0.0         0.0              1.0"
      ]
     },
     "execution_count": 83,
     "metadata": {},
     "output_type": "execute_result"
    }
   ],
   "source": [
    "final_prediction = pd.read_csv(projectPath+'data/final_prediction.csv', index_col=False) \n",
    "\n",
    "final_prediction.head(3)"
   ]
  }
 ],
 "metadata": {
  "colab": {
   "collapsed_sections": [
    "fXkCNtBk431a",
    "4MpiYfvt8fgB",
    "7gauJBOJ6y5u",
    "pO-zWaXajOyo",
    "dvo4_LgJl0YP",
    "m_rGdJwamRi0",
    "5MexzeE_ocNm",
    "3WClVw5vtCTW",
    "mLV6zoY1W7LB",
    "R5AKbMwjNX6C",
    "OdGwakdC5Ndq",
    "xWsJloLiSqML",
    "l_NUVR5NkZWW",
    "g72Jay7f47vL",
    "NFzvPG38wcqm",
    "Wn05inYJwaD1",
    "ucJuasr0wQ2c",
    "0P6p2xLmwzXj"
   ],
   "provenance": [],
   "toc_visible": true
  },
  "kernelspec": {
   "display_name": "Python 3 (ipykernel)",
   "language": "python",
   "name": "python3"
  },
  "language_info": {
   "codemirror_mode": {
    "name": "ipython",
    "version": 3
   },
   "file_extension": ".py",
   "mimetype": "text/x-python",
   "name": "python",
   "nbconvert_exporter": "python",
   "pygments_lexer": "ipython3",
   "version": "3.7.15"
  }
 },
 "nbformat": 4,
 "nbformat_minor": 1
}
